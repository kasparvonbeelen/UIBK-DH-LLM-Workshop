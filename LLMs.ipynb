{
  "nbformat": 4,
  "nbformat_minor": 0,
  "metadata": {
    "colab": {
      "provenance": [],
      "machine_shape": "hm",
      "collapsed_sections": [
        "Tq0pWVJXoo10"
      ],
      "authorship_tag": "ABX9TyPbUlJVmXQ1yZLNbtI2SYOT",
      "include_colab_link": true
    },
    "kernelspec": {
      "name": "python3",
      "display_name": "Python 3"
    },
    "language_info": {
      "name": "python"
    }
  },
  "cells": [
    {
      "cell_type": "markdown",
      "metadata": {
        "id": "view-in-github",
        "colab_type": "text"
      },
      "source": [
        "<a href=\"https://colab.research.google.com/github/kasparvonbeelen/UIBK-DH-LLM-Workshop/blob/dev/LLMs.ipynb\" target=\"_parent\"><img src=\"https://colab.research.google.com/assets/colab-badge.svg\" alt=\"Open In Colab\"/></a>"
      ]
    },
    {
      "cell_type": "markdown",
      "source": [
        "# Using open-source LLMs for analysing humanities data"
      ],
      "metadata": {
        "id": "S-2ldxb0iUxG"
      }
    },
    {
      "cell_type": "markdown",
      "source": [
        "\n",
        "Whereas the previous examples focussed on interpreting specific model predictions, the notebook below explores the use of generative AI for processing and analysing historical newspapers.\n",
        "\n",
        "Major hurdles to working with LLMs are cost and/or infrastructure. Opposed to GPT-2 or BERT, running LLMs locally can be difficult, and using commercial APIs can be expensive.\n",
        "\n",
        "## Why Open-source?\n",
        "\n",
        "- **privacy:**: you might not want to share your data (and ideas) with companies such as OpenAI;\n",
        "- **cost:** making abstraction af the caveat above, using open-source models might reduce costs if you want to apply for example a prompt to 10k newspaper articles;\n",
        "- **transparency:** but be mindful that there are different gradations of open-source, even when you are able to access the model weights, you might remain in the dark about training data and other factors);\n",
        "- **flexibility:** why some closed-models allow fine-tuning on your own data (ties in with privacy), these open-source model still give you more freedom and wiggle rooms to built other models and new application.\n",
        "\n",
        "## Why Large Language Models\n",
        "\n",
        "Analysis of text often described as 'distant reading', reading without reading, relying on quantification and measurement to study large collections of text.\n",
        "\n",
        "- Summarization and \"baby-RAG\"\n",
        "- Speed up annotation and/or information extraction via structured generation\n",
        "\n",
        "## Goals of this Session\n",
        "\n",
        "This notebook covers a few practical as well as theoretical aspects of working with LLMs in the context of humanities research. The goal is to start a discussion on:\n",
        "  - where to find and how to deploy an open-source LLMs?\n",
        "  - what tasks would make sense? which models work well for a selected task?\n",
        "  - how to evaluate outcomes and performance?\n",
        "\n",
        "\n",
        "We want to keep things simple!\n",
        "\n",
        "We will be mainly playing around with Llama-3 and get a feeling how this might change the way we approach data processing as well as the type of research question we'd like to tackle.\n",
        "\n",
        "\n",
        "## Technical note\n",
        "\n",
        "We will be relying on the Hugging Face `InferenceClient` for accessing LLMs. These are freely accessible, but rate limits apply! If you would want to deploy a 'local' version (we're still on Colab, but the code should also work on your computer), uncomment the code below (where indicated) and make sure you are using a [GPU](https://cloud.google.com/gpu). To select a GPU on Colab Go to **`Runtime`** and select **`Change runtime type`**, then select `T4 GPU` (or any other GPU available).\n",
        "\n",
        "\n",
        "\n",
        "This notebook is inspired by: https://huggingface.co/learn/cookbook/structured_generation"
      ],
      "metadata": {
        "id": "E_e5BL9Ti3JG"
      }
    },
    {
      "cell_type": "code",
      "source": [
        "# install the transformer and other libraries\n",
        "!pip install -q -U \"transformers==4.40.0\" pydantic accelerate outlines datasets"
      ],
      "metadata": {
        "id": "qxa9ES0zX9ic"
      },
      "execution_count": 28,
      "outputs": []
    },
    {
      "cell_type": "markdown",
      "source": [
        "## The Hugging Face Hub\n",
        "\n",
        "In the example below, we will experiment with `Llama-3-8B-Instruct`, a recent series of open-source LLMs created by Meta. To use Llama3 you need to:\n",
        "\n",
        "- Make an account on Hugging Face https://huggingface.co/\n",
        "- Go to the Llama-3-8B and sign the terms of use you should get a reply swiftly https://huggingface.co/meta-llama/Meta-Llama-3-8B\n",
        "- Create a user access token with read access: https://huggingface.co/docs/hub/en/security-tokens\n",
        "- Run the code cell below to log into the Hugging Face hub. Copy-paste the access token\n",
        "- Reply `n` to the question 'Add token as git credential? (Y/n)'"
      ],
      "metadata": {
        "id": "CXUryNZSXUd8"
      }
    },
    {
      "cell_type": "code",
      "source": [
        "!huggingface-cli login"
      ],
      "metadata": {
        "colab": {
          "base_uri": "https://localhost:8080/"
        },
        "id": "KIuiPmuRV9aU",
        "outputId": "b66c8ad7-78fd-4e50-a59a-2e95e052dc41"
      },
      "execution_count": 29,
      "outputs": [
        {
          "output_type": "stream",
          "name": "stdout",
          "text": [
            "\n",
            "    _|    _|  _|    _|    _|_|_|    _|_|_|  _|_|_|  _|      _|    _|_|_|      _|_|_|_|    _|_|      _|_|_|  _|_|_|_|\n",
            "    _|    _|  _|    _|  _|        _|          _|    _|_|    _|  _|            _|        _|    _|  _|        _|\n",
            "    _|_|_|_|  _|    _|  _|  _|_|  _|  _|_|    _|    _|  _|  _|  _|  _|_|      _|_|_|    _|_|_|_|  _|        _|_|_|\n",
            "    _|    _|  _|    _|  _|    _|  _|    _|    _|    _|    _|_|  _|    _|      _|        _|    _|  _|        _|\n",
            "    _|    _|    _|_|      _|_|_|    _|_|_|  _|_|_|  _|      _|    _|_|_|      _|        _|    _|    _|_|_|  _|_|_|_|\n",
            "\n",
            "    A token is already saved on your machine. Run `huggingface-cli whoami` to get more information or `huggingface-cli logout` if you want to log out.\n",
            "    Setting a new token will erase the existing one.\n",
            "    To login, `huggingface_hub` requires a token generated from https://huggingface.co/settings/tokens .\n",
            "Enter your token (input will not be visible): \n",
            "Add token as git credential? (Y/n) n\n",
            "Token is valid (permission: read).\n",
            "Your token has been saved to /root/.cache/huggingface/token\n",
            "Login successful\n"
          ]
        }
      ]
    },
    {
      "cell_type": "markdown",
      "source": [
        "## Preparing model and data"
      ],
      "metadata": {
        "id": "gpNX4yD1ch09"
      }
    },
    {
      "cell_type": "markdown",
      "source": [
        "### Import libraries"
      ],
      "metadata": {
        "id": "RtfaU-z2cLRC"
      }
    },
    {
      "cell_type": "code",
      "source": [
        "import warnings\n",
        "warnings.filterwarnings('ignore') # disable warnings"
      ],
      "metadata": {
        "id": "IivyFPPNQ0t-"
      },
      "execution_count": 30,
      "outputs": []
    },
    {
      "cell_type": "code",
      "source": [
        "import transformers\n",
        "from huggingface_hub import InferenceClient\n",
        "from datasets import Dataset\n",
        "from tqdm import tqdm\n",
        "import pandas as pd\n",
        "import torch\n",
        "import pandas as pd\n",
        "import json\n",
        "pd.set_option(\"display.max_colwidth\", 100)"
      ],
      "metadata": {
        "id": "27FpdOCLasrJ"
      },
      "execution_count": 31,
      "outputs": []
    },
    {
      "cell_type": "markdown",
      "source": [
        "### Load model"
      ],
      "metadata": {
        "id": "Xtl7poXAcMdJ"
      }
    },
    {
      "cell_type": "code",
      "source": [
        "# choose a LLMs model\n",
        "repo_id = \"meta-llama/Meta-Llama-3-8B-Instruct\"\n",
        "# instantiate the inference client\n",
        "llm_client = InferenceClient(model=repo_id, timeout=120)"
      ],
      "metadata": {
        "id": "6RiZovNJXdlf"
      },
      "execution_count": 43,
      "outputs": []
    },
    {
      "cell_type": "code",
      "source": [
        "# # define the model, we use the instruct variant\n",
        "# checkpoint = \"meta-llama/Meta-Llama-3-8B-Instruct\"\n",
        "# device = 'cuda' # make sure you use a GPU\n",
        "\n",
        "# # instantiate a text generation pipeline\n",
        "# pipeline = transformers.pipeline(\n",
        "#     \"text-generation\",\n",
        "#     model=checkpoint,\n",
        "#     model_kwargs={\"torch_dtype\": torch.bfloat16},\n",
        "#     device=\"cuda\",\n",
        "# )\n",
        "\n",
        "# # some fluff to improve the generation\n",
        "# terminators = [\n",
        "#     pipeline.tokenizer.eos_token_id,\n",
        "#     pipeline.tokenizer.convert_tokens_to_ids(\"<|eot_id|>\")\n",
        "# ]"
      ],
      "metadata": {
        "id": "Uc9ROzqBjxan"
      },
      "execution_count": 44,
      "outputs": []
    },
    {
      "cell_type": "markdown",
      "source": [
        "### Download data"
      ],
      "metadata": {
        "id": "lk732HeUcOvO"
      }
    },
    {
      "cell_type": "code",
      "source": [
        "# download a sample of 10.000 newspaper articles\n",
        "!wget -q --show-progress https://github.com/kasparvonbeelen/lancaster-newspaper-workshop/raw/wc/data/sample_lwm_hmd_mt90_10000.csv.zip\n",
        "# unzip the downloaded sample\n",
        "!unzip -o sample_lwm_hmd_mt90_10000.csv.zip\n",
        "!rm -r __MACOSX"
      ],
      "metadata": {
        "id": "bj-797e0Z9zr",
        "colab": {
          "base_uri": "https://localhost:8080/"
        },
        "outputId": "b0d9c711-af14-4e85-ef89-fb52e1a7f7f5"
      },
      "execution_count": 7,
      "outputs": [
        {
          "output_type": "stream",
          "name": "stdout",
          "text": [
            "sample_lwm_hmd_mt90 100%[===================>]  37.90M   179MB/s    in 0.2s    \n",
            "Archive:  sample_lwm_hmd_mt90_10000.csv.zip\n",
            "  inflating: sample_lwm_hmd_mt90_10000.csv  \n",
            "  inflating: __MACOSX/._sample_lwm_hmd_mt90_10000.csv  \n"
          ]
        }
      ]
    },
    {
      "cell_type": "code",
      "source": [
        "df = pd.read_csv('sample_lwm_hmd_mt90_10000.csv')\n",
        "df.head(3)"
      ],
      "metadata": {
        "colab": {
          "base_uri": "https://localhost:8080/",
          "height": 510
        },
        "id": "CP6EV9WhZXUR",
        "outputId": "154776cd-b1d6-4eb7-c706-4a35123211c2"
      },
      "execution_count": 8,
      "outputs": [
        {
          "output_type": "execute_result",
          "data": {
            "text/plain": [
              "    NLP  issue  art_num       title  \\\n",
              "0  2194   1026  art0021    The Sun.   \n",
              "1  2645    925  art0004  The Press.   \n",
              "2  2194    323  art0006    The Sun.   \n",
              "\n",
              "                                         collection   full_date  year  month  \\\n",
              "0  British Library Heritage Made Digital Newspapers  1846-10-26  1846     10   \n",
              "1  British Library Heritage Made Digital Newspapers  1858-09-25  1858      9   \n",
              "2  British Library Heritage Made Digital Newspapers  1840-03-23  1840      3   \n",
              "\n",
              "   day         location  word_count  ocrquality  \\\n",
              "0   26  London, England         539      0.9705   \n",
              "1   25  London, England        2263      0.9663   \n",
              "2   23  London, England         795      0.9351   \n",
              "\n",
              "                                                                                                  text  \\\n",
              "0  POOR T,i,ENIPAT A 1„k CT  The Poor Law Coirdnissioti(rs have issued a ei; cular, dated the 20th ...   \n",
              "1  THE PRESS, SEPTEMBER 25, 1858.  in managing their own business and dealing with matters of local...   \n",
              "2  PUBLICATIONS.  This day is published, in post Bvo., with Woodcuts and Twelve coloured Plates, pr...   \n",
              "\n",
              "   decade  \n",
              "0    1840  \n",
              "1    1850  \n",
              "2    1840  "
            ],
            "text/html": [
              "\n",
              "  <div id=\"df-65b23ae8-2405-4406-ab08-19a55d4519b1\" class=\"colab-df-container\">\n",
              "    <div>\n",
              "<style scoped>\n",
              "    .dataframe tbody tr th:only-of-type {\n",
              "        vertical-align: middle;\n",
              "    }\n",
              "\n",
              "    .dataframe tbody tr th {\n",
              "        vertical-align: top;\n",
              "    }\n",
              "\n",
              "    .dataframe thead th {\n",
              "        text-align: right;\n",
              "    }\n",
              "</style>\n",
              "<table border=\"1\" class=\"dataframe\">\n",
              "  <thead>\n",
              "    <tr style=\"text-align: right;\">\n",
              "      <th></th>\n",
              "      <th>NLP</th>\n",
              "      <th>issue</th>\n",
              "      <th>art_num</th>\n",
              "      <th>title</th>\n",
              "      <th>collection</th>\n",
              "      <th>full_date</th>\n",
              "      <th>year</th>\n",
              "      <th>month</th>\n",
              "      <th>day</th>\n",
              "      <th>location</th>\n",
              "      <th>word_count</th>\n",
              "      <th>ocrquality</th>\n",
              "      <th>text</th>\n",
              "      <th>decade</th>\n",
              "    </tr>\n",
              "  </thead>\n",
              "  <tbody>\n",
              "    <tr>\n",
              "      <th>0</th>\n",
              "      <td>2194</td>\n",
              "      <td>1026</td>\n",
              "      <td>art0021</td>\n",
              "      <td>The Sun.</td>\n",
              "      <td>British Library Heritage Made Digital Newspapers</td>\n",
              "      <td>1846-10-26</td>\n",
              "      <td>1846</td>\n",
              "      <td>10</td>\n",
              "      <td>26</td>\n",
              "      <td>London, England</td>\n",
              "      <td>539</td>\n",
              "      <td>0.9705</td>\n",
              "      <td>POOR T,i,ENIPAT A 1„k CT  The Poor Law Coirdnissioti(rs have issued a ei; cular, dated the 20th ...</td>\n",
              "      <td>1840</td>\n",
              "    </tr>\n",
              "    <tr>\n",
              "      <th>1</th>\n",
              "      <td>2645</td>\n",
              "      <td>925</td>\n",
              "      <td>art0004</td>\n",
              "      <td>The Press.</td>\n",
              "      <td>British Library Heritage Made Digital Newspapers</td>\n",
              "      <td>1858-09-25</td>\n",
              "      <td>1858</td>\n",
              "      <td>9</td>\n",
              "      <td>25</td>\n",
              "      <td>London, England</td>\n",
              "      <td>2263</td>\n",
              "      <td>0.9663</td>\n",
              "      <td>THE PRESS, SEPTEMBER 25, 1858.  in managing their own business and dealing with matters of local...</td>\n",
              "      <td>1850</td>\n",
              "    </tr>\n",
              "    <tr>\n",
              "      <th>2</th>\n",
              "      <td>2194</td>\n",
              "      <td>323</td>\n",
              "      <td>art0006</td>\n",
              "      <td>The Sun.</td>\n",
              "      <td>British Library Heritage Made Digital Newspapers</td>\n",
              "      <td>1840-03-23</td>\n",
              "      <td>1840</td>\n",
              "      <td>3</td>\n",
              "      <td>23</td>\n",
              "      <td>London, England</td>\n",
              "      <td>795</td>\n",
              "      <td>0.9351</td>\n",
              "      <td>PUBLICATIONS.  This day is published, in post Bvo., with Woodcuts and Twelve coloured Plates, pr...</td>\n",
              "      <td>1840</td>\n",
              "    </tr>\n",
              "  </tbody>\n",
              "</table>\n",
              "</div>\n",
              "    <div class=\"colab-df-buttons\">\n",
              "\n",
              "  <div class=\"colab-df-container\">\n",
              "    <button class=\"colab-df-convert\" onclick=\"convertToInteractive('df-65b23ae8-2405-4406-ab08-19a55d4519b1')\"\n",
              "            title=\"Convert this dataframe to an interactive table.\"\n",
              "            style=\"display:none;\">\n",
              "\n",
              "  <svg xmlns=\"http://www.w3.org/2000/svg\" height=\"24px\" viewBox=\"0 -960 960 960\">\n",
              "    <path d=\"M120-120v-720h720v720H120Zm60-500h600v-160H180v160Zm220 220h160v-160H400v160Zm0 220h160v-160H400v160ZM180-400h160v-160H180v160Zm440 0h160v-160H620v160ZM180-180h160v-160H180v160Zm440 0h160v-160H620v160Z\"/>\n",
              "  </svg>\n",
              "    </button>\n",
              "\n",
              "  <style>\n",
              "    .colab-df-container {\n",
              "      display:flex;\n",
              "      gap: 12px;\n",
              "    }\n",
              "\n",
              "    .colab-df-convert {\n",
              "      background-color: #E8F0FE;\n",
              "      border: none;\n",
              "      border-radius: 50%;\n",
              "      cursor: pointer;\n",
              "      display: none;\n",
              "      fill: #1967D2;\n",
              "      height: 32px;\n",
              "      padding: 0 0 0 0;\n",
              "      width: 32px;\n",
              "    }\n",
              "\n",
              "    .colab-df-convert:hover {\n",
              "      background-color: #E2EBFA;\n",
              "      box-shadow: 0px 1px 2px rgba(60, 64, 67, 0.3), 0px 1px 3px 1px rgba(60, 64, 67, 0.15);\n",
              "      fill: #174EA6;\n",
              "    }\n",
              "\n",
              "    .colab-df-buttons div {\n",
              "      margin-bottom: 4px;\n",
              "    }\n",
              "\n",
              "    [theme=dark] .colab-df-convert {\n",
              "      background-color: #3B4455;\n",
              "      fill: #D2E3FC;\n",
              "    }\n",
              "\n",
              "    [theme=dark] .colab-df-convert:hover {\n",
              "      background-color: #434B5C;\n",
              "      box-shadow: 0px 1px 3px 1px rgba(0, 0, 0, 0.15);\n",
              "      filter: drop-shadow(0px 1px 2px rgba(0, 0, 0, 0.3));\n",
              "      fill: #FFFFFF;\n",
              "    }\n",
              "  </style>\n",
              "\n",
              "    <script>\n",
              "      const buttonEl =\n",
              "        document.querySelector('#df-65b23ae8-2405-4406-ab08-19a55d4519b1 button.colab-df-convert');\n",
              "      buttonEl.style.display =\n",
              "        google.colab.kernel.accessAllowed ? 'block' : 'none';\n",
              "\n",
              "      async function convertToInteractive(key) {\n",
              "        const element = document.querySelector('#df-65b23ae8-2405-4406-ab08-19a55d4519b1');\n",
              "        const dataTable =\n",
              "          await google.colab.kernel.invokeFunction('convertToInteractive',\n",
              "                                                    [key], {});\n",
              "        if (!dataTable) return;\n",
              "\n",
              "        const docLinkHtml = 'Like what you see? Visit the ' +\n",
              "          '<a target=\"_blank\" href=https://colab.research.google.com/notebooks/data_table.ipynb>data table notebook</a>'\n",
              "          + ' to learn more about interactive tables.';\n",
              "        element.innerHTML = '';\n",
              "        dataTable['output_type'] = 'display_data';\n",
              "        await google.colab.output.renderOutput(dataTable, element);\n",
              "        const docLink = document.createElement('div');\n",
              "        docLink.innerHTML = docLinkHtml;\n",
              "        element.appendChild(docLink);\n",
              "      }\n",
              "    </script>\n",
              "  </div>\n",
              "\n",
              "\n",
              "<div id=\"df-dc0bbf99-19b0-4404-b14f-322de765f250\">\n",
              "  <button class=\"colab-df-quickchart\" onclick=\"quickchart('df-dc0bbf99-19b0-4404-b14f-322de765f250')\"\n",
              "            title=\"Suggest charts\"\n",
              "            style=\"display:none;\">\n",
              "\n",
              "<svg xmlns=\"http://www.w3.org/2000/svg\" height=\"24px\"viewBox=\"0 0 24 24\"\n",
              "     width=\"24px\">\n",
              "    <g>\n",
              "        <path d=\"M19 3H5c-1.1 0-2 .9-2 2v14c0 1.1.9 2 2 2h14c1.1 0 2-.9 2-2V5c0-1.1-.9-2-2-2zM9 17H7v-7h2v7zm4 0h-2V7h2v10zm4 0h-2v-4h2v4z\"/>\n",
              "    </g>\n",
              "</svg>\n",
              "  </button>\n",
              "\n",
              "<style>\n",
              "  .colab-df-quickchart {\n",
              "      --bg-color: #E8F0FE;\n",
              "      --fill-color: #1967D2;\n",
              "      --hover-bg-color: #E2EBFA;\n",
              "      --hover-fill-color: #174EA6;\n",
              "      --disabled-fill-color: #AAA;\n",
              "      --disabled-bg-color: #DDD;\n",
              "  }\n",
              "\n",
              "  [theme=dark] .colab-df-quickchart {\n",
              "      --bg-color: #3B4455;\n",
              "      --fill-color: #D2E3FC;\n",
              "      --hover-bg-color: #434B5C;\n",
              "      --hover-fill-color: #FFFFFF;\n",
              "      --disabled-bg-color: #3B4455;\n",
              "      --disabled-fill-color: #666;\n",
              "  }\n",
              "\n",
              "  .colab-df-quickchart {\n",
              "    background-color: var(--bg-color);\n",
              "    border: none;\n",
              "    border-radius: 50%;\n",
              "    cursor: pointer;\n",
              "    display: none;\n",
              "    fill: var(--fill-color);\n",
              "    height: 32px;\n",
              "    padding: 0;\n",
              "    width: 32px;\n",
              "  }\n",
              "\n",
              "  .colab-df-quickchart:hover {\n",
              "    background-color: var(--hover-bg-color);\n",
              "    box-shadow: 0 1px 2px rgba(60, 64, 67, 0.3), 0 1px 3px 1px rgba(60, 64, 67, 0.15);\n",
              "    fill: var(--button-hover-fill-color);\n",
              "  }\n",
              "\n",
              "  .colab-df-quickchart-complete:disabled,\n",
              "  .colab-df-quickchart-complete:disabled:hover {\n",
              "    background-color: var(--disabled-bg-color);\n",
              "    fill: var(--disabled-fill-color);\n",
              "    box-shadow: none;\n",
              "  }\n",
              "\n",
              "  .colab-df-spinner {\n",
              "    border: 2px solid var(--fill-color);\n",
              "    border-color: transparent;\n",
              "    border-bottom-color: var(--fill-color);\n",
              "    animation:\n",
              "      spin 1s steps(1) infinite;\n",
              "  }\n",
              "\n",
              "  @keyframes spin {\n",
              "    0% {\n",
              "      border-color: transparent;\n",
              "      border-bottom-color: var(--fill-color);\n",
              "      border-left-color: var(--fill-color);\n",
              "    }\n",
              "    20% {\n",
              "      border-color: transparent;\n",
              "      border-left-color: var(--fill-color);\n",
              "      border-top-color: var(--fill-color);\n",
              "    }\n",
              "    30% {\n",
              "      border-color: transparent;\n",
              "      border-left-color: var(--fill-color);\n",
              "      border-top-color: var(--fill-color);\n",
              "      border-right-color: var(--fill-color);\n",
              "    }\n",
              "    40% {\n",
              "      border-color: transparent;\n",
              "      border-right-color: var(--fill-color);\n",
              "      border-top-color: var(--fill-color);\n",
              "    }\n",
              "    60% {\n",
              "      border-color: transparent;\n",
              "      border-right-color: var(--fill-color);\n",
              "    }\n",
              "    80% {\n",
              "      border-color: transparent;\n",
              "      border-right-color: var(--fill-color);\n",
              "      border-bottom-color: var(--fill-color);\n",
              "    }\n",
              "    90% {\n",
              "      border-color: transparent;\n",
              "      border-bottom-color: var(--fill-color);\n",
              "    }\n",
              "  }\n",
              "</style>\n",
              "\n",
              "  <script>\n",
              "    async function quickchart(key) {\n",
              "      const quickchartButtonEl =\n",
              "        document.querySelector('#' + key + ' button');\n",
              "      quickchartButtonEl.disabled = true;  // To prevent multiple clicks.\n",
              "      quickchartButtonEl.classList.add('colab-df-spinner');\n",
              "      try {\n",
              "        const charts = await google.colab.kernel.invokeFunction(\n",
              "            'suggestCharts', [key], {});\n",
              "      } catch (error) {\n",
              "        console.error('Error during call to suggestCharts:', error);\n",
              "      }\n",
              "      quickchartButtonEl.classList.remove('colab-df-spinner');\n",
              "      quickchartButtonEl.classList.add('colab-df-quickchart-complete');\n",
              "    }\n",
              "    (() => {\n",
              "      let quickchartButtonEl =\n",
              "        document.querySelector('#df-dc0bbf99-19b0-4404-b14f-322de765f250 button');\n",
              "      quickchartButtonEl.style.display =\n",
              "        google.colab.kernel.accessAllowed ? 'block' : 'none';\n",
              "    })();\n",
              "  </script>\n",
              "</div>\n",
              "    </div>\n",
              "  </div>\n"
            ],
            "application/vnd.google.colaboratory.intrinsic+json": {
              "type": "dataframe",
              "variable_name": "df",
              "summary": "{\n  \"name\": \"df\",\n  \"rows\": 10000,\n  \"fields\": [\n    {\n      \"column\": \"NLP\",\n      \"properties\": {\n        \"dtype\": \"number\",\n        \"std\": 410,\n        \"min\": 2083,\n        \"max\": 3548,\n        \"num_unique_values\": 107,\n        \"samples\": [\n          2979,\n          2090,\n          2089\n        ],\n        \"semantic_type\": \"\",\n        \"description\": \"\"\n      }\n    },\n    {\n      \"column\": \"issue\",\n      \"properties\": {\n        \"dtype\": \"number\",\n        \"std\": 343,\n        \"min\": 101,\n        \"max\": 1231,\n        \"num_unique_values\": 366,\n        \"samples\": [\n          225,\n          1201,\n          1130\n        ],\n        \"semantic_type\": \"\",\n        \"description\": \"\"\n      }\n    },\n    {\n      \"column\": \"art_num\",\n      \"properties\": {\n        \"dtype\": \"category\",\n        \"num_unique_values\": 309,\n        \"samples\": [\n          \"art0330\",\n          \"art0107\",\n          \"art0031\"\n        ],\n        \"semantic_type\": \"\",\n        \"description\": \"\"\n      }\n    },\n    {\n      \"column\": \"title\",\n      \"properties\": {\n        \"dtype\": \"category\",\n        \"num_unique_values\": 106,\n        \"samples\": [\n          \"The Ripon Observer.\",\n          \"The Daily Times.\",\n          \"The Liverpool Standard, and General Advertiser.\"\n        ],\n        \"semantic_type\": \"\",\n        \"description\": \"\"\n      }\n    },\n    {\n      \"column\": \"collection\",\n      \"properties\": {\n        \"dtype\": \"category\",\n        \"num_unique_values\": 2,\n        \"samples\": [\n          \"British Library Living with Machines Project\",\n          \"British Library Heritage Made Digital Newspapers\"\n        ],\n        \"semantic_type\": \"\",\n        \"description\": \"\"\n      }\n    },\n    {\n      \"column\": \"full_date\",\n      \"properties\": {\n        \"dtype\": \"object\",\n        \"num_unique_values\": 7316,\n        \"samples\": [\n          \"1842-02-15\",\n          \"1847-04-09\"\n        ],\n        \"semantic_type\": \"\",\n        \"description\": \"\"\n      }\n    },\n    {\n      \"column\": \"year\",\n      \"properties\": {\n        \"dtype\": \"number\",\n        \"std\": 22,\n        \"min\": 1801,\n        \"max\": 1920,\n        \"num_unique_values\": 119,\n        \"samples\": [\n          1852,\n          1884\n        ],\n        \"semantic_type\": \"\",\n        \"description\": \"\"\n      }\n    },\n    {\n      \"column\": \"month\",\n      \"properties\": {\n        \"dtype\": \"number\",\n        \"std\": 3,\n        \"min\": 1,\n        \"max\": 12,\n        \"num_unique_values\": 12,\n        \"samples\": [\n          7,\n          8\n        ],\n        \"semantic_type\": \"\",\n        \"description\": \"\"\n      }\n    },\n    {\n      \"column\": \"day\",\n      \"properties\": {\n        \"dtype\": \"number\",\n        \"std\": 8,\n        \"min\": 1,\n        \"max\": 31,\n        \"num_unique_values\": 31,\n        \"samples\": [\n          10,\n          15\n        ],\n        \"semantic_type\": \"\",\n        \"description\": \"\"\n      }\n    },\n    {\n      \"column\": \"location\",\n      \"properties\": {\n        \"dtype\": \"category\",\n        \"num_unique_values\": 53,\n        \"samples\": [\n          \"Swansea, West Glamorgan, Wales\",\n          \"Warrington, Cheshire, England\"\n        ],\n        \"semantic_type\": \"\",\n        \"description\": \"\"\n      }\n    },\n    {\n      \"column\": \"word_count\",\n      \"properties\": {\n        \"dtype\": \"number\",\n        \"std\": 1689,\n        \"min\": 501,\n        \"max\": 24563,\n        \"num_unique_values\": 3159,\n        \"samples\": [\n          1675,\n          1024\n        ],\n        \"semantic_type\": \"\",\n        \"description\": \"\"\n      }\n    },\n    {\n      \"column\": \"ocrquality\",\n      \"properties\": {\n        \"dtype\": \"number\",\n        \"std\": 0.023763277723342704,\n        \"min\": 0.9001,\n        \"max\": 1.0,\n        \"num_unique_values\": 944,\n        \"samples\": [\n          0.9238,\n          0.9595\n        ],\n        \"semantic_type\": \"\",\n        \"description\": \"\"\n      }\n    },\n    {\n      \"column\": \"text\",\n      \"properties\": {\n        \"dtype\": \"string\",\n        \"num_unique_values\": 10000,\n        \"samples\": [\n          \"Jartign anb Colonial fnttlligence.  FRANC  - -The Monitenr of Tuesday last publishes the following in its non-qificica columns :\\u2014\\\"At Chalons-euratene on Saturday night, about 9 o'clock, some 40 individnala suddenly attacked a small poet of infantry, which they took by surprise. They then took the direction of the railway station, shouting 'Vice la Republiac \\\"The Republic is proclaimed in Paris I \\\" The Ilepnllo is everywehre I\\\" Citizens of Chilons, to arms I The stationmaster, an old soldier, assembled the men employed at the railway station, and drove back the rioters. From the railway station the mob proceeded to the bridge over the Saone, the head of which they occupied, to prevent an alarm being sent to the barracks. The officers of the garrison, who had hurried to the Sous-Prefecture to seeertain what the tumult wee about, cleared the bridge sword in hand. The troops socthgturned out, and the mob soon ditP\\u2022rowl- Before ht 15 of the more conspicuous ringleaders were in Itiaimpouibletodisguiaethefactthat the trade of FT&ncelznotatpreeentinuheslthy ietateucouldbe wished. The unfavourable influences which act on commercial affairs IWO of two kinds\\u2014the one political, the other financial. The consequences which have resulted from the attempt to assassinate the Emperor on the 14th of January are more disastrous than could have been anticipated. Thence sprang the violenoe of the military addresses, which caused so much displeasure in England, and produced \\u2022 misunderstanding between the two Governments, which has resided on the various markets throughout Franoe, and caused a derangement in mercantile affairs. di Nobody ;ears but that the present difficulty will be pe arranged, and that the former friendly relations will be re-setablished, but it will require \\u2022 inner time to restore that confidence among commercial men which can alone give elasticity to commercial transactions. The Prime of Oude has had an audience of the Emperor of the French. It is said that his Highness \\\" presumed\\\" a little too much. The ambassadors from the two Kings of Siam have also been received in state by the Emperor ; and Prince Maharajah Dhuleep-Singh, ex-King of Lahore, has arrived in Paris. The mit= of Oriental princes and statesmen into Paris begins to be remarked.. A change in the ministry of Foreign Affairs is an. ticipated. Crowds of people have on several days assembled in the Place de la Roquette expecting to see Orsini and his fellow convicts executed. The appeal, however had not yet been decided. THE CASE OF Int. HODGE. \\u2014We are Wormed that since the Emperor Napoleon made the demand of the Sardinian Government that they should surrender Mr. Hodge, on \\u2022 charge of being implicated in the conspiracy to assassinate the Emperor; Sir James Hudson, the British Ambassador at Turin, has written home to state there is not \\u2022 tittle of evidence even to justify Mr. Hodges arrest. The \\\"papers,\\\" we are told, have bean laid before the Attorney-General; meanwhile Mr. Hodges, who 'suffers from pulmonary disonder, is not unlikely to be killed by the confinement while the learned- Attorney-Oeneral and Lord Malmesbury are \\\"communicating.\\\" Paris is beginning to experience, to \\u2022 very considerable extent the results of the new passport regulations regarding the admission of British subjects!. Moreover, hundreds of foreigners have left the cat% Orders are out to the 20,000 mayors of the various communes in Prance to deliverno passport without the personal attenienee of the individual, whose personal peculiarities are to be carefully depicted, in downright pre-Raphaelite style, without any 1.:16'191.d attempt at high art. \",\n          \"THE RECENT FIRE AT THE BLUE  LAST TAVERN.  On Saturday Mr. W. Payne, the coroner of London, held a court of inquiry at the White Horse, Friday-street, Cheapside, respecting the recent fire which occurred upon the premises belonging to Mr. Taylor, the Blue Last Tavern, Distaff-lane. Police-constable 440 (City force) said that on the morning of Thursday last, whilst on duty in Little Distaff-lane, he experienced a strong smell of something burning. He ran up to Mr. Taylor's premises, when he found smoke issuing forth from the shutters. He immediately knocked at the door and cried \\\"Fire !\\\" but five minutes elapsed before he could arouse Mr. Taylor and his family. At length he opened his bed-room window, when some persons in the street called, to him to threw his children out of the window. Witness told him not to do so, but to make haste down stairs. The side door having been opened witness succeeded in helping Mrs. Taylor and the children out. He was then told that the potman was in the upper part of the house, and he immediately went to the stairs for the purpose of making to his bed-room, but the smoke was so dense :that he was unable to get up. He, therefore, went to the bell and rang violently, which awoke the man, and he made his escape over the roof and was taken into an adjoining house. William Maidman, sub-inspector at Watling-street brigade station, proved attending on the morning in question with his engines. The bar, taproom, and bar parlour, were then in flames. The engines were set to work, and the fire was extinguished. Mr. Taylor had told Mtn that the place was overrun with rats, and that he kept lucifer matches in the bar parlour, where no doubt the fire originated. It was quite probable that the rats might have caused the matches to ignite, either by nibbling the boxes or knocking them down. The conductor of the fire-escape, when he arrived at the fire, was so intoxicated as to be unable f\\u2022 render assistance. The Coroner was informed that he had since been dismissed. Verdict ---\\\" That the fire was accidentally caused.\\\"  RISE IN THE VALUE or LAND.\\u2014In the parish of Wensley, and hamlet of Snitterton' at a place called Oaker Hill, are about 100 acres of land (chiefly grazing), the proceeds of the rent of which are appropriated towards the poors-rate of Wensley. Nearly the whole of this land has been in the hands of the same tenants during the last 28 years, it having during that time been let for two periods of 14 years each, by auction, or ticket. The last of the periods named would have expired on Ladyday next, and on Wednesday last the whole was offered by auction in the lots occupied by the respective tenants, nine in number, and who hoped to re-occupy their respective holdings at their former rents. Some of them were, however, doomed to disappointment, as three of the lots were advanced in value by Mr. Thomas Haynes, a tenant to C. Turner, Esq., from the sums respectively hitherto paid per acre as below:\\u2014 Stephen Wall's holding los. per acre, Wm. Greatorex, lsi. per acre, and Godfrey Taylor, 124. per acre, without, however, Mr. Haynes obtaining any land ; and notwithstanding Mr. Greatorex's land was advanced by the bidding named from 2L 9s. per acre to 31. 75., he again took to his previous holding. One lot only went from the previous tenants, Messrs. Benj. and T. Marsden, to Mr. John Holmes, at an advance.\\u2014 Derbyshire Courier. A CANINE THIEF.\\u2014A gentleman, accompanied by a Newfoundland dog, lately entered the office of Messrs. Woodall and Co., bankers, Scarborough, for the purpose of transacting some business. A few minutes afterwards the dog quietly left the office, carrying in his mouth a bag containing 100 sovereigns, which he had. purloined from behind the counter; but, luckily, one of the clerks had watched the four-footed thief, and speedily recovered the stolen treasure.\\u2014Gateshead Observer, \"\n        ],\n        \"semantic_type\": \"\",\n        \"description\": \"\"\n      }\n    },\n    {\n      \"column\": \"decade\",\n      \"properties\": {\n        \"dtype\": \"number\",\n        \"std\": 22,\n        \"min\": 1800,\n        \"max\": 1920,\n        \"num_unique_values\": 13,\n        \"samples\": [\n          1910,\n          1890\n        ],\n        \"semantic_type\": \"\",\n        \"description\": \"\"\n      }\n    }\n  ]\n}"
            }
          },
          "metadata": {},
          "execution_count": 8
        }
      ]
    },
    {
      "cell_type": "code",
      "source": [
        "df.shape"
      ],
      "metadata": {
        "colab": {
          "base_uri": "https://localhost:8080/"
        },
        "id": "tE6fnaaRZgzU",
        "outputId": "f2553564-5533-4263-d939-f015e352b600"
      },
      "execution_count": 9,
      "outputs": [
        {
          "output_type": "execute_result",
          "data": {
            "text/plain": [
              "(10000, 14)"
            ]
          },
          "metadata": {},
          "execution_count": 9
        }
      ]
    },
    {
      "cell_type": "markdown",
      "source": [
        "### Process data"
      ],
      "metadata": {
        "id": "JYvK2zSTcUg4"
      }
    },
    {
      "cell_type": "code",
      "source": [
        "def get_chunks(text: str, size: int=250,step: int=50) -> list:\n",
        "  \"\"\"divide a text into chunks of similar size\n",
        "  Arguments:\n",
        "    text (str): input text\n",
        "    size (int): number of tokens in each chunk\n",
        "    step (int): step size\n",
        "  Returns a list of strings\n",
        "  \"\"\"\n",
        "  words = text.split()\n",
        "  return [' '.join(words[i:i+size]) for i in range(0,len(words),step)]"
      ],
      "metadata": {
        "id": "fE6QOcPqaf1I"
      },
      "execution_count": 10,
      "outputs": []
    },
    {
      "cell_type": "markdown",
      "source": [],
      "metadata": {
        "id": "FeSqqV6Wa2Ra"
      }
    },
    {
      "cell_type": "code",
      "source": [
        "# apply chunking to text\n",
        "df['chunks'] = df.text.apply(get_chunks)"
      ],
      "metadata": {
        "id": "Px_o2GN_Zn8K"
      },
      "execution_count": 11,
      "outputs": []
    },
    {
      "cell_type": "code",
      "source": [
        "len(df.text[0]),len(df['chunks'][0])"
      ],
      "metadata": {
        "colab": {
          "base_uri": "https://localhost:8080/"
        },
        "id": "NI7zi3fqZ-3o",
        "outputId": "a06434ee-ff5d-427f-d443-0f319688ced1"
      },
      "execution_count": 12,
      "outputs": [
        {
          "output_type": "execute_result",
          "data": {
            "text/plain": [
              "(2969, 11)"
            ]
          },
          "metadata": {},
          "execution_count": 12
        }
      ]
    },
    {
      "cell_type": "code",
      "source": [
        "# reorder the dataframe\n",
        "# with one chunk in each row\n",
        "# instead of the whole text\n",
        "df_chunks = df.explode('chunks')\n",
        "df_chunks.shape"
      ],
      "metadata": {
        "colab": {
          "base_uri": "https://localhost:8080/"
        },
        "id": "vYGjL1nPZ4ZV",
        "outputId": "f99f650a-0426-463f-bb04-de0e4699dc80"
      },
      "execution_count": 13,
      "outputs": [
        {
          "output_type": "execute_result",
          "data": {
            "text/plain": [
              "(336876, 15)"
            ]
          },
          "metadata": {},
          "execution_count": 13
        }
      ]
    },
    {
      "cell_type": "markdown",
      "source": [
        "## Prompting\n",
        "\n",
        "LLM generate text from an input, usually referred to as a 'prompt', a pieces of text we like it use as a starting point for predicting novel tokens.\n",
        "\n",
        "When 'chatting' with an LLMs we usually provide the model with (at least) two messages: a system and a user prompt.\n",
        "\n",
        "**System message**:\n",
        "- **Generic instructions on behavior**: specify how the model should behave (e.g. be helpful, respectful, neutral) or the role it should play (e.g., a teacher, assistant, or advisor).\n",
        "- **Constraints**: Specific instructions on what the model should avoid or how it should generate responses.\n",
        "- **Context**: Background information or context that remains constant throughout the session to ensure consistency in responses.\n",
        "\n",
        "**User message**:\n",
        "\n",
        "- **Query**: specifies input from the user, such as a question, instruction, or request that the model needs to respond to.\n",
        "- **Dynamic**: changes with each interaction, reflecting the user's immediate needs, questions, or instructions.\n",
        "\n",
        "The Hugging Face chat prompt template allows messages as lists of dictionaries.\n",
        "\n",
        "```python\n",
        "messages [\n",
        "  {\n",
        "    \"role\" : \"system\",\n",
        "    \"content\": \"<system prompt here>\"\n",
        "  },\n",
        "  {\n",
        "    \"role\" : \"user\",\n",
        "    \"content\": \"<user prompt here>\"\n",
        "  }\n",
        "]\n",
        "```"
      ],
      "metadata": {
        "id": "QY1ucJhFnguw"
      }
    },
    {
      "cell_type": "markdown",
      "source": [
        "Define a message by articulating a system and user prompt."
      ],
      "metadata": {
        "id": "GNYCb3IqoRZ7"
      }
    },
    {
      "cell_type": "code",
      "source": [
        "df.iloc[0].text"
      ],
      "metadata": {
        "colab": {
          "base_uri": "https://localhost:8080/",
          "height": 191
        },
        "id": "K-LT18dHghYO",
        "outputId": "fc2f697a-1d41-447f-e6e1-dd4f50cf4702"
      },
      "execution_count": 14,
      "outputs": [
        {
          "output_type": "execute_result",
          "data": {
            "text/plain": [
              "'POOR T,i,ENIPAT A 1„k CT  The Poor Law Coirdnissioti(rs have issued a ei; cular, dated the 20th instant, stating that they have consulted the Attorney and Solicitor-General on the construction of the late Removal Act, and give as the result:— I. \" That the proviso to the Ist section of the 9 and 10 Vict., c. 66, which sets forth the exceptions to the principal enactments that are to be excluded in the computation of time, is net retrospective in its operation, so as to apply to cases where the five years\\' residence was complete before the statute. 2. \" That an interval between the completion of the five years residence and the application for the warrant of removal filled up by one of the exceptions contained in the proviso will not p event the operation of the statute in restraining the removal of the pauper whu had resided for the specified time. 3. \" That orders of removal obtained previous to th• passing of the Act, but not then executed by the removal of the paupers, cannot now be executed in cases where the Ist and 2nd section would have prevented them frcm being granted if the applications were made subsequently to the passing of the Act. 4. \" That the 2nd Section does not apply to the cases of widows whose husbands died before the passing of the Act  5. \"That the 4th section does apply to persons who became chargeable before the passing of the Act, and continued to do so till the application for the warrant. 6. \" That the statute applies equally to the removal of persons born in Scotland, Ireland, or the Channel Islands, as to persons having settlements in England, so as to override pro tanto the provisions of the 8 and 9 Viet., c. 117.\"  As to the effect of the first proviso, so far as it relates to the time before the passing of the Act, the simple fact of the actual residence of the pauper is alone to be considered, and consequently that no time during which the party may have been in the receipt of relief is to be omitted from the calculation of the term of residence, while any absence during that period, such as that caused by an imprisonment, or a residence in an hospital, is to be treated as an interruption of the continuous residence to which the statute applies.  With reference to the second question, the Commissioners consider that the principle of the construction must equally apply to intervals in the time during which the period of residence is comprised, so that for example, a residence of three years in a parish may be united with a subsequent residence of two years in the same parish, though in the interval the party may have been out of the parish in prison for several months, or serving her Majesty as a soldier for several years ; this observation is, however, to be qualified by the supposition that the absence is one which is protected by proviso. In the application of this statute no difference exists whether the cause arise between two parishes in the same union, or in different unions. '"
            ],
            "application/vnd.google.colaboratory.intrinsic+json": {
              "type": "string"
            }
          },
          "metadata": {},
          "execution_count": 14
        }
      ]
    },
    {
      "cell_type": "code",
      "source": [
        "messages = [\n",
        "    {\n",
        "        \"role\": \"system\",\n",
        "        \"content\": \"\"\"\n",
        "          You are an helpful AI that will assist me with analysing and reading newspaper articles.\n",
        "          Read the newspaper article attentively and extract the required information.\n",
        "          Each newspaper article will be enclosed with triple hash tags (i.e. ###).\n",
        "          Don't make thigs up! If the information is not in the article then just say 'I don't know'\"\"\"\n",
        "              },\n",
        "\n",
        "    {\n",
        "        \"role\": \"user\",\n",
        "        \"content\": f\"\"\"Provide a short description of principal characters portrayed newspaper article?\n",
        "\n",
        "                  ###POOR T,i,ENIPAT A 1„k CT  The Poor Law Coirdnissioti(rs have issued a ei; cular,\n",
        "                  dated the 20th instant, stating that they have consulted the Attorney and\n",
        "                  Solicitor-General on the construction of the late Removal Act, and give as the\n",
        "                  result:— I. \" That the proviso to the Ist section of the 9 and 10 Vict., c. 66,\n",
        "                  which sets forth the exceptions to the principal enactments that are to be\n",
        "                  excluded in the computation of time, is net retrospective in its operation, so\n",
        "                  as to apply to cases where the five years\\' residence was complete before the statute.\n",
        "                  2. \" That an interval between the completion of the five years residence and the\n",
        "                  application for the warrant of removal filled up by one of the exceptions contained\n",
        "                  in the proviso will not p event the operation of the statute in restraining the\n",
        "                  removal of the pauper whu had resided for the specified time. 3. \" That orders\n",
        "                  of removal obtained previous to th• passing of the Act, but not then executed\n",
        "                  by the removal of the paupers,###\"\"\"\n",
        "              }\n",
        "  ]"
      ],
      "metadata": {
        "id": "AO5PEGlsUukK"
      },
      "execution_count": 15,
      "outputs": []
    },
    {
      "cell_type": "code",
      "source": [
        "messages"
      ],
      "metadata": {
        "colab": {
          "base_uri": "https://localhost:8080/"
        },
        "id": "zh2iS37UBIOU",
        "outputId": "5b839e24-4362-4149-ad21-4c46f20b74f1"
      },
      "execution_count": 16,
      "outputs": [
        {
          "output_type": "execute_result",
          "data": {
            "text/plain": [
              "[{'role': 'system',\n",
              "  'content': \"\\n          You are an helpful AI that will assist me with analysing and reading newspaper articles.\\n          Read the newspaper article attentively and extract the required information.\\n          Each newspaper article will be enclosed with triple hash tags (i.e. ###).\\n          Don't make thigs up! If the information is not in the article then just say 'I don't know'\"},\n",
              " {'role': 'user',\n",
              "  'content': 'Provide a short description of principal characters portrayed newspaper article?\\n\\n                  ###POOR T,i,ENIPAT A 1„k CT  The Poor Law Coirdnissioti(rs have issued a ei; cular, \\n                  dated the 20th instant, stating that they have consulted the Attorney and \\n                  Solicitor-General on the construction of the late Removal Act, and give as the \\n                  result:— I. \" That the proviso to the Ist section of the 9 and 10 Vict., c. 66, \\n                  which sets forth the exceptions to the principal enactments that are to be \\n                  excluded in the computation of time, is net retrospective in its operation, so \\n                  as to apply to cases where the five years\\' residence was complete before the statute. \\n                  2. \" That an interval between the completion of the five years residence and the \\n                  application for the warrant of removal filled up by one of the exceptions contained \\n                  in the proviso will not p event the operation of the statute in restraining the \\n                  removal of the pauper whu had resided for the specified time. 3. \" That orders \\n                  of removal obtained previous to th• passing of the Act, but not then executed \\n                  by the removal of the paupers,###'}]"
            ]
          },
          "metadata": {},
          "execution_count": 16
        }
      ]
    },
    {
      "cell_type": "code",
      "source": [
        "#help(llm_client.chat_completion)"
      ],
      "metadata": {
        "id": "GyBwFdkBZ6RG"
      },
      "execution_count": 34,
      "outputs": []
    },
    {
      "cell_type": "code",
      "source": [
        "from os import truncate\n",
        "# # uncomment this code if you want to work locally, comment the other function\n",
        "# def get_completion(messages: list, temperature=.1, top_p=.1) -> str:\n",
        "#   \"\"\"get completion for given system and user prompt\n",
        "#     Arguments:\n",
        "#     messages (list): a list containin a system and user message as\n",
        "#       python dictionaries with keys 'role' and 'content'\n",
        "#     temperature (float): regulate creativity of the text generation\n",
        "#     top_p (float): cummulative probability included in the\n",
        "#       generation process\n",
        "#   \"\"\"\n",
        "#   prompt = pipeline.tokenizer.apply_chat_template(\n",
        "#         messages,\n",
        "#         tokenize=False,\n",
        "#         add_generation_prompt=True\n",
        "#       )\n",
        "\n",
        "#   outputs = pipeline(\n",
        "#     prompt,\n",
        "#     max_new_tokens=256,\n",
        "#     eos_token_id=terminators,\n",
        "#     do_sample=True,\n",
        "#     temperature=temperature,\n",
        "#     top_p=top_p,\n",
        "#       )\n",
        "#   return outputs[0][\"generated_text\"][len(prompt):]\n",
        "\n",
        "\n",
        "def get_completion(messages: list, temperature=.1, top_p=.1):\n",
        "    \"\"\"get completion for given system and user prompt\n",
        "      Arguments:\n",
        "        messages (list): a list containin a system and user message as\n",
        "          python dictionaries with keys 'role' and 'content'\n",
        "        temperature (float): regulate creativity of the text generation\n",
        "        top_p (float): cummulative probability included in the\n",
        "          generation process\n",
        "    \"\"\"\n",
        "    outputs = llm_client.chat_completion(\n",
        "        messages=messages,\n",
        "        max_tokens=1024,\n",
        "        temperature=temperature,\n",
        "        top_p=top_p\n",
        "        )\n",
        "    return outputs.choices[0].message.content"
      ],
      "metadata": {
        "id": "-MM2Wlv_Vw3y"
      },
      "execution_count": 48,
      "outputs": []
    },
    {
      "cell_type": "code",
      "source": [
        "print(get_completion(messages))"
      ],
      "metadata": {
        "colab": {
          "base_uri": "https://localhost:8080/"
        },
        "id": "f6G6Cbt18lUX",
        "outputId": "e31f0d5f-a60c-43cc-c3eb-6e89cab8f567"
      },
      "execution_count": 19,
      "outputs": [
        {
          "output_type": "stream",
          "name": "stdout",
          "text": [
            "Based on the newspaper article, the principal characters mentioned are:\n",
            "\n",
            "1. The Poor Law Commissioners: They are the ones who have issued a circular stating their consultation with the Attorney and Solicitor-General on the construction of the late Removal Act.\n",
            "2. The Attorney-General: He is mentioned as one of the officials consulted by the Poor Law Commissioners on the construction of the Removal Act.\n",
            "3. The Solicitor-General: He is also mentioned as one of the officials consulted by the Poor Law Commissioners on the construction of the Removal Act.\n",
            "4. Paupers: They are the individuals who are the subject of the Removal Act, which deals with the removal of poor people from one place to another.\n",
            "\n",
            "Note that there are no specific individuals mentioned by name in the article.\n"
          ]
        }
      ]
    },
    {
      "cell_type": "markdown",
      "source": [
        "## Exercise\n",
        "\n",
        "- Change the system message and ask the model to reply in medieval French.\n",
        "- Change the user message and ask the model to summarize the article and condense it to one sentence."
      ],
      "metadata": {
        "id": "SML4OsbfXIk8"
      }
    },
    {
      "cell_type": "code",
      "source": [
        "# Enter code here"
      ],
      "metadata": {
        "id": "0CfZ-Q96omxn"
      },
      "execution_count": 89,
      "outputs": []
    },
    {
      "cell_type": "markdown",
      "source": [
        "#### Solution"
      ],
      "metadata": {
        "id": "Tq0pWVJXoo10"
      }
    },
    {
      "cell_type": "code",
      "source": [
        "messages = [\n",
        "    {\"role\": \"system\", \"content\": \"\"\"\n",
        "    You are an helpful AI that will assist me with analysing and reading newspaper articles.\n",
        "    Read the newspaper articles attentively and extract the required information.\n",
        "    Each newspaper article will be enclosed with triple hash tags (i.e. ###).\n",
        "    Don't make thigs up! Answer in medieval French!\"\"\"},\n",
        "    {\"role\": \"user\", \"content\": f\"\"\"Provide a short description of principal characters portrayed newspaper article?\n",
        "    ###{df.iloc[0].text}###\"\"\"}\n",
        "]\n",
        "\n",
        "print(get_completion(messages))\n"
      ],
      "metadata": {
        "id": "am1Ge38tXGP-",
        "colab": {
          "base_uri": "https://localhost:8080/"
        },
        "outputId": "0dce3933-4d39-44c6-f7cc-1cbfa62d2e13"
      },
      "execution_count": null,
      "outputs": [
        {
          "output_type": "stream",
          "name": "stderr",
          "text": [
            "Setting `pad_token_id` to `eos_token_id`:128009 for open-end generation.\n"
          ]
        },
        {
          "output_type": "stream",
          "name": "stdout",
          "text": [
            "Hear ye, hear ye! I shall extract the principal characters from this most singular newspaper article.\n",
            "\n",
            "* Le défunto, or the deceased, is the mate of the steam tug Earl of Glamorgan, who met a watery grave in the Severn a few days prior to the events described in the article.\n",
            "* Le frère, or the brother, of the deceased, who repudiated the expense of the more expensive coffin and refused to relinquish the body until his claims were settled.\n",
            "* Le fossoyeur, or the undertaker, who received the order to prepare a parish coffin, but instead provided a more expensive one at the behest of the authorities. He later appealed to the coroner, who was powerless to intervene.\n",
            "\n",
            "Mayhap these characters shall play a part in the unfolding drama, as the article hints at a \"scene\" that may yet ensue.\n"
          ]
        }
      ]
    },
    {
      "cell_type": "code",
      "source": [
        "messages = [\n",
        "    {\"role\": \"system\", \"content\": \"\"\"\n",
        "    You are an helpful AI that will assist me with analysing and reading newspaper articles.\n",
        "    Read the newspaper articles attentively and extract the required information.\n",
        "    Each newspaper article will be enclosed with triple hash tags (i.e. ###).\n",
        "    Don't make thigs up! If the information is not in the article then just say 'Dunno'\"\"\"},\n",
        "    {\"role\": \"user\", \"content\": f\"\"\"Summarize the article content in one sentence.\n",
        "    ###{df.iloc[0].text}###\"\"\"}\n",
        "]\n",
        "\n",
        "print(get_completion(messages))"
      ],
      "metadata": {
        "id": "pBMVp1OQXg3z",
        "colab": {
          "base_uri": "https://localhost:8080/"
        },
        "outputId": "21386eb2-8a4e-4f0b-e777-15da1c9959c4"
      },
      "execution_count": null,
      "outputs": [
        {
          "output_type": "stream",
          "name": "stderr",
          "text": [
            "Setting `pad_token_id` to `eos_token_id`:128009 for open-end generation.\n"
          ]
        },
        {
          "output_type": "stream",
          "name": "stdout",
          "text": [
            "A body believed to be the mate of the steam tug Earl of Glamorgan, who drowned in the Severn, was initially intended for a parish coffin but was instead given a more expensive one, leading to a dispute over who should pay for the funeral.\n"
          ]
        }
      ]
    },
    {
      "cell_type": "markdown",
      "source": [
        "## Applying text generation to historical documents\n"
      ],
      "metadata": {
        "id": "gNcYq_a-beX1"
      }
    },
    {
      "cell_type": "markdown",
      "source": [
        "### Example 1: Summarize Summarizations\n",
        "\n",
        "What happened in January 1899?"
      ],
      "metadata": {
        "id": "USeWpL8Ar-UX"
      }
    },
    {
      "cell_type": "code",
      "source": [
        "df_small = df_chunks[\n",
        "            (df_chunks.year==1899) & (df_chunks.month==1) # select articles from January 1899\n",
        "                  ].sample(20, random_state=1984).reset_index(drop=True) # we sample a few to keep things simple\n",
        "df_small.shape"
      ],
      "metadata": {
        "id": "Cw-N3XoUkRfu",
        "colab": {
          "base_uri": "https://localhost:8080/"
        },
        "outputId": "8fefd790-1128-4961-ee4e-866e8abd647f"
      },
      "execution_count": 90,
      "outputs": [
        {
          "output_type": "execute_result",
          "data": {
            "text/plain": [
              "(20, 15)"
            ]
          },
          "metadata": {},
          "execution_count": 90
        }
      ]
    },
    {
      "cell_type": "code",
      "source": [
        "\n",
        "def apply_completions(item: pd.Series,\n",
        "                      system_message: str,\n",
        "                      user_message: str,\n",
        "                      text_column: str = 'chunks') -> str:\n",
        "  \"\"\"\n",
        "  Function that appl\n",
        "  Argument:\n",
        "    item (pd.Series): row from a pandas Dataframe\n",
        "    system_message (str): system prompt, specifies how the system\n",
        "      should behave in\n",
        "    user_message (str): user prompt, give instruction how to\n",
        "      process each historical. the documents itself will be append\n",
        "      from the 'text_column' argument\n",
        "    text_column (str): name of the text column\n",
        "  \"\"\"\n",
        "  messages = [\n",
        "    {\"role\": \"system\", \"content\": system_message},\n",
        "    {\"role\": \"user\", \"content\": user_message}\n",
        "      ]\n",
        "  messages[1]['content'] += f\"\\n\\n###{item[text_column]}###\"\n",
        "  return  get_completion(messages)"
      ],
      "metadata": {
        "id": "FJiND9t_dkE0"
      },
      "execution_count": 57,
      "outputs": []
    },
    {
      "cell_type": "code",
      "source": [
        "tqdm.pandas() # use tqdm to view progress\n",
        "\n",
        "system_message = \"\"\"You are an helpful AI that will assist me with analysing and reading newspaper articles.\n",
        "    Read the newspaper articles attentively and extract the required information.\n",
        "    Each newspaper article will be enclosed with triple hash tags (i.e. ###).\n",
        "    Don't make thigs up! If the information is not in the article then just say 'I don't know''\"\"\"\n",
        "user_message = \"Summarize the article content in one sentence.\"\n",
        "\n",
        "df_small['completion'] =  df_small.progress_apply(apply_completions,system_message=system_message, user_message=user_message, axis=1)"
      ],
      "metadata": {
        "id": "nUEjoux9Y3ZV",
        "colab": {
          "base_uri": "https://localhost:8080/"
        },
        "outputId": "fdee4178-e13c-41e8-e1a4-003c279a0d9f"
      },
      "execution_count": 92,
      "outputs": [
        {
          "output_type": "stream",
          "name": "stderr",
          "text": [
            "100%|██████████| 20/20 [00:20<00:00,  1.02s/it]\n"
          ]
        }
      ]
    },
    {
      "cell_type": "code",
      "source": [
        "# get the summaries\n",
        "df_small['completion'][0]"
      ],
      "metadata": {
        "id": "n54N-ySxjuN2",
        "colab": {
          "base_uri": "https://localhost:8080/",
          "height": 87
        },
        "outputId": "36a52d5e-55c7-49de-da5a-e39d2f6b0e77"
      },
      "execution_count": 93,
      "outputs": [
        {
          "output_type": "execute_result",
          "data": {
            "text/plain": [
              "'Here is a summary of the article content in one sentence:\\n\\nThe Londesborough Lodge of Freemasons held a successful installation ceremony, where Bro. Charles Nicholson was installed as the new Worshipful Master, and was followed by a banquet at the Station Hotel, where the brethren enjoyed good food, company, and Masonic toasts.'"
            ],
            "application/vnd.google.colaboratory.intrinsic+json": {
              "type": "string"
            }
          },
          "metadata": {},
          "execution_count": 93
        }
      ]
    },
    {
      "cell_type": "code",
      "source": [
        "summaries = '\\n'.join([f\"###{c}###\" for c in df_small['completion']])"
      ],
      "metadata": {
        "id": "OyeisiEc9NFV"
      },
      "execution_count": 94,
      "outputs": []
    },
    {
      "cell_type": "code",
      "source": [
        "messages = [\n",
        "    {\"role\": \"system\", \"content\": system_message},\n",
        "    {\"role\": \"user\", \"content\": f\"\"\"Based on the article summaries within ### below, what are the most important events? Be concise\\n{summaries}\"\"\"}\n",
        "      ]"
      ],
      "metadata": {
        "id": "HhMcFo_J8Y5s"
      },
      "execution_count": 95,
      "outputs": []
    },
    {
      "cell_type": "code",
      "source": [
        "print(get_completion(messages))"
      ],
      "metadata": {
        "colab": {
          "base_uri": "https://localhost:8080/"
        },
        "id": "kTtQH8El8XWh",
        "outputId": "4f4675e5-960f-4596-dcd7-061907897075"
      },
      "execution_count": 96,
      "outputs": [
        {
          "output_type": "stream",
          "name": "stdout",
          "text": [
            "Based on the article summaries, the most important events are:\n",
            "\n",
            "* The Czar of Russia's proposal to limit armaments\n",
            "* The war between America and Spain\n",
            "* The Fashoda incident\n",
            "* The controversy surrounding the start of the 20th century\n",
            "* The loss of the gas works in Dorchester\n",
            "* The government's vaccination bill\n",
            "\n",
            "These events are significant because they relate to international relations, conflicts, and global issues that had a significant impact on the world at the time.\n"
          ]
        }
      ]
    },
    {
      "cell_type": "markdown",
      "source": [
        "### Example 2: Condense information about accidents\n",
        "\n",
        "How did accidents in the news change over time?\n",
        "\n",
        "An analysis using a very simple pipeline combining summarization and RAG.\n"
      ],
      "metadata": {
        "id": "JzAyo9DJKhuO"
      }
    },
    {
      "cell_type": "code",
      "source": [
        "import re\n",
        "pattern = re.compile(r'\\baccidents?\\b', re.I)\n",
        "pattern.findall('accidents accident AccIdent accidental')"
      ],
      "metadata": {
        "colab": {
          "base_uri": "https://localhost:8080/"
        },
        "id": "TDv5HAz1LpW4",
        "outputId": "0c461ce8-c68a-4470-ad5d-356d7f6299c5"
      },
      "execution_count": 21,
      "outputs": [
        {
          "output_type": "execute_result",
          "data": {
            "text/plain": [
              "['accidents', 'accident', 'AccIdent']"
            ]
          },
          "metadata": {},
          "execution_count": 21
        }
      ]
    },
    {
      "cell_type": "code",
      "source": [
        "tqdm.pandas()\n",
        "df_chunks['matches'] = df_chunks.chunks.progress_apply(lambda x: bool(pattern.findall(x)))"
      ],
      "metadata": {
        "colab": {
          "base_uri": "https://localhost:8080/"
        },
        "id": "64Q74D2MMISw",
        "outputId": "e65a4c3b-b4e6-4730-8e48-9c5b1860286f"
      },
      "execution_count": 22,
      "outputs": [
        {
          "output_type": "stream",
          "name": "stderr",
          "text": [
            "100%|██████████| 336876/336876 [00:13<00:00, 24399.35it/s]\n"
          ]
        }
      ]
    },
    {
      "cell_type": "code",
      "source": [
        "accident_1810s = df_chunks[\n",
        "                    (df_chunks.year.between(1810,1820)) & (df_chunks['matches'] == True)\n",
        "                      ].sample(n=10, random_state=1984)\n",
        "\n",
        "accident_1890s = df_chunks[\n",
        "                    (df_chunks.year.between(1890,1900)) & (df_chunks['matches'] == True)\n",
        "                      ].sample(n=10, random_state=1984)\n",
        "print(accident_1810s.shape,accident_1890s.shape)"
      ],
      "metadata": {
        "colab": {
          "base_uri": "https://localhost:8080/"
        },
        "id": "3j0Vs5IxMiUO",
        "outputId": "d3f5d4ff-5f00-40f7-a977-51a15f0acb2d"
      },
      "execution_count": 99,
      "outputs": [
        {
          "output_type": "stream",
          "name": "stdout",
          "text": [
            "(10, 16) (10, 16)\n"
          ]
        }
      ]
    },
    {
      "cell_type": "code",
      "source": [
        "(df_chunks['matches'] == True).value_counts()"
      ],
      "metadata": {
        "colab": {
          "base_uri": "https://localhost:8080/"
        },
        "id": "tBvyenk2W7QC",
        "outputId": "6572c08b-092a-4818-d803-76077ae68db9"
      },
      "execution_count": 100,
      "outputs": [
        {
          "output_type": "execute_result",
          "data": {
            "text/plain": [
              "matches\n",
              "False    329628\n",
              "True       7248\n",
              "Name: count, dtype: int64"
            ]
          },
          "metadata": {},
          "execution_count": 100
        }
      ]
    },
    {
      "cell_type": "code",
      "source": [
        "accident_1890s.iloc[3].chunks"
      ],
      "metadata": {
        "colab": {
          "base_uri": "https://localhost:8080/",
          "height": 191
        },
        "id": "-cuWnOlpVVZy",
        "outputId": "c1c43ea5-e132-4f6a-d2b1-c4fb1c51e267"
      },
      "execution_count": 101,
      "outputs": [
        {
          "output_type": "execute_result",
          "data": {
            "text/plain": [
              "'please acknowledge receipt of same to the Hon. Secretary, 19, South Scarborough Street, West Hartlepool. ACCIDENT AT THE LION BREWERY.—Last night, about eight o\\'clock, an accident of a rather serious nature occurred at the above building to two young men named John Hart and John Gates. The former resides in Westmoreland Street, and Gates is employed by Messrs Bland Brothers as a plumber. The aceident was caused by the gas engine exploding. Dr. Young was called in and it was found that both were badly burnt. WEST HARTLEPOOL PARLIAMENTARY AND LITERARY DEBATING SOCIETY. —Last night the first debate under the auspices of the above society was held in Mr Rowe\\'s restaurant, Lynn Street, the subject for discussion being \"Should there be a legal eight hours day?\" Mr Withy occupied the chair. The affirmative was taken by Mr King, and the negative by Mr Bryden. Messrs Rafter, Looney, Mason, and Tarn also took part in the debate, which was adjourned for a week. There was a good attendance. MASONIC INSTALLATION AT (113ISBROUGH.-011 Thursday afternoon the annual meeting of the Zetland Ledge, No. 561, was held in the Masonic Hall, Guisbrough. Bro. Wm. Richardson was installed W.M. for the ensuing year, and the following officers were appointed :—Bro. W. Wilks, J.P.M. ; Rro. T. Scott, S.W. ; Bro. W. P. Robinson, J. W. ; Bro. T. Dale, P.M., treasurer; Bro. W. Robinson, P.M., secretary; Bro. J. Suggitt, S.D. ; Bro. F. Wright, J.D. ; Bro. W. T. Harrison, P.M., D.C. ; Bro.'"
            ],
            "application/vnd.google.colaboratory.intrinsic+json": {
              "type": "string"
            }
          },
          "metadata": {},
          "execution_count": 101
        }
      ]
    },
    {
      "cell_type": "code",
      "source": [
        "system_message = \"\"\"You are an helpful AI that will assist me with analysing and reading newspaper articles.\n",
        "    Read the newspaper articles attentively and extract the required information.\n",
        "    Each newspaper article will be enclosed with triple hash tags (i.e. ###).\n",
        "    Don't make thigs up! If the information is not in the article then just say 'I don't know'.\n",
        "    Focus on the answer do not add any unnecessary introductory texts.\"\"\"\n",
        "user_message = \"\"\"Does the article talk about an accident?\n",
        "If yes summarize the article content in one sentence.\n",
        "If not, answer 'no accident mentioned' \"\"\"\n",
        "\n",
        "accident_1810s['completion'] =  accident_1810s.progress_apply(apply_completions,system_message=system_message, user_message=user_message, axis=1)\n",
        "accident_1890s['completion'] =  accident_1890s.progress_apply(apply_completions,system_message=system_message, user_message=user_message, axis=1)"
      ],
      "metadata": {
        "colab": {
          "base_uri": "https://localhost:8080/"
        },
        "id": "1FtRSk2oT5sc",
        "outputId": "bc2f5390-37a0-4e8d-a1c6-229b3baeed5a"
      },
      "execution_count": 107,
      "outputs": [
        {
          "output_type": "stream",
          "name": "stderr",
          "text": [
            "100%|██████████| 10/10 [00:07<00:00,  1.31it/s]\n",
            "100%|██████████| 10/10 [00:21<00:00,  2.13s/it]\n"
          ]
        }
      ]
    },
    {
      "cell_type": "code",
      "source": [
        "accident_1890s[['chunks','completion']].iloc[3].values"
      ],
      "metadata": {
        "colab": {
          "base_uri": "https://localhost:8080/"
        },
        "id": "c46YdAkqU9_K",
        "outputId": "f48366da-96fd-41c1-da29-695bcbda5e98"
      },
      "execution_count": 108,
      "outputs": [
        {
          "output_type": "execute_result",
          "data": {
            "text/plain": [
              "array(['please acknowledge receipt of same to the Hon. Secretary, 19, South Scarborough Street, West Hartlepool. ACCIDENT AT THE LION BREWERY.—Last night, about eight o\\'clock, an accident of a rather serious nature occurred at the above building to two young men named John Hart and John Gates. The former resides in Westmoreland Street, and Gates is employed by Messrs Bland Brothers as a plumber. The aceident was caused by the gas engine exploding. Dr. Young was called in and it was found that both were badly burnt. WEST HARTLEPOOL PARLIAMENTARY AND LITERARY DEBATING SOCIETY. —Last night the first debate under the auspices of the above society was held in Mr Rowe\\'s restaurant, Lynn Street, the subject for discussion being \"Should there be a legal eight hours day?\" Mr Withy occupied the chair. The affirmative was taken by Mr King, and the negative by Mr Bryden. Messrs Rafter, Looney, Mason, and Tarn also took part in the debate, which was adjourned for a week. There was a good attendance. MASONIC INSTALLATION AT (113ISBROUGH.-011 Thursday afternoon the annual meeting of the Zetland Ledge, No. 561, was held in the Masonic Hall, Guisbrough. Bro. Wm. Richardson was installed W.M. for the ensuing year, and the following officers were appointed :—Bro. W. Wilks, J.P.M. ; Rro. T. Scott, S.W. ; Bro. W. P. Robinson, J. W. ; Bro. T. Dale, P.M., treasurer; Bro. W. Robinson, P.M., secretary; Bro. J. Suggitt, S.D. ; Bro. F. Wright, J.D. ; Bro. W. T. Harrison, P.M., D.C. ; Bro.',\n",
              "       'Yes, the article talks about an accident.\\n\\nHere is a summary of the article content in one sentence:\\n\\nA shocking accident occurred at the Cargo Fleet Salt Works, Middlesbrough, where William Maudeley, a 64-year-old managing foreman, fell 25 feet from a gantry and died shortly after.'],\n",
              "      dtype=object)"
            ]
          },
          "metadata": {},
          "execution_count": 108
        }
      ]
    },
    {
      "cell_type": "code",
      "source": [
        "summaries_1810s = '\\n'.join([f\"###{c}###\" for c in accident_1810s.chunks if not c.lower().startswith('no')])\n",
        "summaries_1810s = f\"\\n```\\nSummaries for 1810s:\\n\\n{summaries_1810s}\\n```\"\n",
        "summaries_1890s = '\\n'.join([f\"###{c}###\" for c in accident_1890s.chunks if not c.lower().startswith('no')])\n",
        "summaries_1890s = f\"\\n```\\nSummaries for 1810s:\\n\\n{summaries_1890s}\\n```\"\n",
        "print(summaries_1890s)"
      ],
      "metadata": {
        "colab": {
          "base_uri": "https://localhost:8080/"
        },
        "id": "hf8DODZwcqvD",
        "outputId": "277f15c3-e5ee-45b5-dfc8-83125c7f42d9"
      },
      "execution_count": 119,
      "outputs": [
        {
          "output_type": "stream",
          "name": "stdout",
          "text": [
            "\n",
            "```\n",
            "Summaries for 1810s:\n",
            "\n",
            "###it. On their present form there is no team in the League to touch Nelson, and barring accidents—like last season for instance— the championship looks a gift for them.\" It may be stated that in the two matches NeNOll have scored 379 runs for the loss of only L6tie wickets, giving them the wonderful average of 42 runs per wicket. On the other hand Burnley have last twenty wickets for NO runs which works out an average of 9 runs per wicket. Comment is unnecessary. . I have nothing but congratulations for the Nelson team, whose fielding, with one exception, was as near perfection as possible. Those two catches in the slips by Hartley opened the eyes of the Turfites, and reminded them of Joe Allen in his pahniest days. Then the bowling of Shacklock and Cuttell was really splendid, and at one time it seemed probable that Burnley would not reach 40. Muschainp, too, behind the wickets was all there, as \"John Henry\" found to his cost. Bower, by his score of 57 not out is very fittingly ths first winner of the increased talent money to which I referred last week, and which he very generously gave to the team. Further than that, he won the bat offered by Mr. Clegg, of Standish-street, for the highest score in the match. Amongst the interested spectators of the match were Mr. W. A. Lindsay, accompanied by his son, and the Hon. Philip Stanhope, the candidates for the Parliamentary representation of###\n",
            "###conjecture. Even if satisfactory assurances are not given to the officials of the engineers' scciety that the full rate of wages is being paid, it is not thought that that organisation ;will order their members to come out immediately. A ballot will probably be taken on the question and the conciliatory attitude adopted by the men gives grounds for hoping that the dispute will be amicably settled. In the House of Commons Parliament. yesterday Mr Field asked the Home Scretary if he would advise the Queen to release the treason felony prisoners in commemoration of the Diamond Jt.bilee, but Sir M. W. Ridley said he could add nothing to his previous replies on the subject. Ii Committee on the Workmen's Compensation Bill the discussion on Mr Chamberlain's amendment to Mr Wilson's amendment relating to the giving of notice of accidents and of claims for compensation was continued. Mr Bainbridge proposed another form of words, which Sir M. W. Ridley accepted, and after a slight modification it was adopted. Mr Ascroft then moved to amend Clause l by prohibiting contracting out, but Mr Chamberlain opposed the motion. After some debate, in the course of which Mr Burns scpported the amendment, a division was taken, and the amendment was rejected by 170 votes to .97 Mr Pickard moved to add words to provide that no scheme should be certified unless approved by three-fourths of the workmen as ascertained by ballot. Mr Chamberlain regarded the amendment as impracticable, but ocered to confer with###\n",
            "###working men without assistance from men in other positions. And that was an instance of what was one of the great hopes of England, viz., that the working-men of England were taking their affairs into their own hands, and managinv them for themselves, they have shown undoubted ability in doing so by their management of friendly and other societies to the amount of millions of money. There are kindred societies that are not financially so strong as the Manchester Unity, but they are working hard to alleviate those who are dependent upon their funds, and it is pleasing to note, how , ready the people are to render assistance when appealed to for external support. We should, therefore, thank them for what has already been done, hoping that they will always be ready to help those who cannot help themselves (our widows and orphans). The fund for this purpose has to meet all demands upon it. The sick and funds must not be interfered with to assist, and societies that have adopted that it should be compulsory upon all members to join this fund, and the majority of them in hazardous occupation, find that through accidents their widows and orphans have so increased that the funds contributed will not meet the demand to keep all payments up to the funds falls heavy on those having small wages and a large family. I hope many of your readers will see this letter, and may it be the means of encouraging those###\n",
            "###please acknowledge receipt of same to the Hon. Secretary, 19, South Scarborough Street, West Hartlepool. ACCIDENT AT THE LION BREWERY.—Last night, about eight o'clock, an accident of a rather serious nature occurred at the above building to two young men named John Hart and John Gates. The former resides in Westmoreland Street, and Gates is employed by Messrs Bland Brothers as a plumber. The aceident was caused by the gas engine exploding. Dr. Young was called in and it was found that both were badly burnt. WEST HARTLEPOOL PARLIAMENTARY AND LITERARY DEBATING SOCIETY. —Last night the first debate under the auspices of the above society was held in Mr Rowe's restaurant, Lynn Street, the subject for discussion being \"Should there be a legal eight hours day?\" Mr Withy occupied the chair. The affirmative was taken by Mr King, and the negative by Mr Bryden. Messrs Rafter, Looney, Mason, and Tarn also took part in the debate, which was adjourned for a week. There was a good attendance. MASONIC INSTALLATION AT (113ISBROUGH.-011 Thursday afternoon the annual meeting of the Zetland Ledge, No. 561, was held in the Masonic Hall, Guisbrough. Bro. Wm. Richardson was installed W.M. for the ensuing year, and the following officers were appointed :—Bro. W. Wilks, J.P.M. ; Rro. T. Scott, S.W. ; Bro. W. P. Robinson, J. W. ; Bro. T. Dale, P.M., treasurer; Bro. W. Robinson, P.M., secretary; Bro. J. Suggitt, S.D. ; Bro. F. Wright, J.D. ; Bro. W. T. Harrison, P.M., D.C. ; Bro.###\n",
            "###Mr J. Hapkin ; vice-captain, Mr 1). John: treasurer, Mr J. Cooke (re-elected): secretary, Mr E. Hopkin (re-electedt. The secretary and Mr J. W. Edwards were elected representatives for the Welsh Rugby Union. DEATH OF A TONDO MAN IN OM ENSLAN D. The following news from Gympie, Queensland, relates to the death of Mr Joseph Hurley. formerly of Maesteg and Tondo, second son of Mr Job Hurley, Vulin Vaal, Tondu. It will be read with painful interest by h 6 old acquaintances. \"A fatal accident occurred to Mr Joseph Hurley, store-keeper, on Saturday evening (says the Gympir Miner of 15th June, 1891). At about four o'clock he wont out to deliver sonic goods on the Tamaroe road. He was driving a horse and spring cart, and being away rather longer than usual, his brother became uneasy, and about nine o'clock at night went to look for him. Being dark at the time ho had to take a lantern, and after going two miles out of town, found him lying dead on the Tamaree road. The spring cart was capsiraxl, and the horse's hind legs were over his brother's chest. There were some marks and bruises over deceased's ear and forehead, but from the way in which the body was lying it (lid not seem as if he had struggled much. Near where the cart was capsized was a sapling, and it 6 thought that one of the wheels coming in contract with it was the cause of the disaster. The###\n",
            "###gone wrong in matters cycling. The town, which in spite of its hilly nature. prior to this accident enjoyed an immunity from police prosecution, now has its weekly victim roll. The decisions are frequently difficult to understand in the light of, logic. Why one cyclist, whom policemen asserted rode at the rate of fifteen miles an hour, should be fined tire shillings, and thirteen and six costs, and his companion, who was convicted on the same individnal's evidence of riding twenty miles an boar, should be fined eight shillings, and ten and six meta it 'is hard to grasp, but it is fact nevertheless. • Cycling ii Yid to be on the decrease amongst the upper ten thousand in Great Britain, though on the Continent it is as popular as ever, the Royalty and consequently the ladies and gentlemen of fashion, taking extensive pleasure in the pastime. Amongst Queens who cycle, might be mentioned the Queens of Italy, Wurtemburg and Portugal; while the Princesses who are addicted to the sport are the Grand Duchess of Mecklenburg, the Crown Prime= of Sweden, the Duchess Dowager of Anita, the Crown Princess Stephanie of Austria, and the Crown Princess of Greece, who learnt this summer at Cronberg.###\n",
            "###1 jury and said they had had the advantage of seeing ' the scene of the accident, which would help them lin considering their verdict, which he thought j I from the evidence was one of accidental death. If ' I they made any recommendation he would see that j it was forwarded to the proper quartets—Mr Dodshon: If the majority of the jury make a re- ' commendation will you forward it ?—The Coroner: ' If it is bearing on future safety.—Mr Dodshon: j It is not for you to say that. Will you do it ?—Tue Coroner: When the recommendation is made I j will consider it ?—ecir Dodshon : You refused to I oonsider it on Saturday, and 1 GOf INTO A TEMPER AND WEST OCT. . , —The Coroner: Oh, no, I never get into a temper. ' —Mr Dodshon: I made a suggestion on Saturday, 1 that if we found a verdict of \"Accidental death\" the Carlton Iron Company should look lifter the future of the wile and family of the deceased.—Tke Coroner: This is quite irregular. You have to Consider your verdict according to the evidence before you.—The jury were then lee by themselves, and in about ten minutes the Coroner was sent for. He ascertained that all but Mr Dodshon had agreed to a verdict, hat that that gentleman was irreconcilable, he wanting to make the jury pass a recommendation that the colliery company should pay £.500 to the widow and children of###\n",
            "###machine was placed at a difficult barrier. One of the horses fell in trying to take this barrier and crushed its rider. The whole accident I was shown accurately in tho pictures, which form I • very unique set. Similarly in taking a view of a fire department's rerponae to an alarm, at Atlantic City. New Jersey. a heavy engine, in trVine to &vole' running down some parsons who were in the way, ran directly over the camera. The camera was mashed into firewood, of courera Curiously enough, when it was examined, it was found that the box containing the film had not been injured; and when the film was developed a fine series of pioturee resulted. The machine had continued to operate up to the moment when the pole of the eng no struck and demolished it. The final views of the aeries represent the powerful team galloping straight out of the centre of the piotore, and they are en hichly realistic that oftentimes spectators down front find themselves doing a little involuntary dodging. A DOLEFUL COUNTENANCE Ti a sure and certain sign that something is going wrcng. When a man finds every morning that his top hair is getting thinner, things are not ' exactly right. If he is a good man he says it is a nuisance. If he is a bad cne he swears at his ' wife, or kicks the dog. It does not grow any better in either case. When a woman finds that###\n",
            "###County Brewers Society, 5 Victoria Street, Westminster, 31st Jan. Pr:rues PROMOTION.—P.C. Turnbull has been promoted by the Watch Committee to the rank of sergeant, in the place of Sergeant Mooney. I.O.G.T,—The Be Just and Fear Not\" lodge, No. 913, who have just removed to the South John Street Mission Room, held their first session last night the Ist inst., when the following were elected as office-bearers for the current quarter :—Bro. Bradshaw, C.T ; Bro. J. Paterson, V.T ; Bro. A. Paterson, senr., secretary; Sister Paterson, chaplain; Bro. J. Smith, F.S ; Bro. Knight, Treasurer. One was proposed and initiated, and. three more were proposed for initiation next session. The officers were then duly installed by Bro. J. Blackburn, D.G.C.T., assisted by Bro. Gibson. CRANE ACCIDENT AT CUMWHINTON.—An accident occurred at Cumwhinton on Thursday, by which a young man, Robert Pickering, a porter at the station, was severely injured. A large crane had been forwarded from Carlisle, for the purpose of loading some very large blocks of stone. While Mr Scott, stationmaster, and Pickering were engaged in lowering the jib, the latter accidentally lifted the clutch, throwing the whole weight of the jib on the handle, which swung round and struck Pickering on the forehead. Scott was thrown on the platform, but was no worse. Pickering was at once attended to, and subsequently removed to the Infirmary. HOLY TRINITY MEN'S MITTUAL IMPROVEMENT SOCIETY. Tuesday evening Mr J. Higharn, M.A., lectured on ‘• England in the 18th Century.\" to a very###\n",
            "###common in Ireland) next occupied the attention of the audience who were shown A capital representation of a lake dwelling with its huts and other appurtenances. About now _ AN UNFORTUNATE ACCIDENT Occurred to the gas reservoir or bellows of the lantern by their exploding, and this rather marred a most excellent discourse which Mr. Jones had been at considerable tremble in preparing. AS won as the loud report was heard the people made a general rush for the doors, but in spite of the fright which prevailed no one was injured. When the exact nature of the accident was ascertained, and upon being assured that nothing of a very serious character had happened, the audience resumed their seats, and the lecturer proceeded without the aid of views though Mr. John Hargraves kindly offered to piece his apparatus at the committee's disposal. Mr. Jones referred at some length to the architecture and general features, together with their style of furniture, of the ancient English castles in the middle ages, and added that such castles as Skipton were built during that period. The furniture employed in the castles at that time was, however, very meagre, and the Tudor period saw a great improvement in that respect. The lecturer deeply regretted that he was unable to show any further illustrations as the architecture of ancient times was very interesting and worthy of study, and as an instance of this remark he cited the very ancient thoroughfare known as 'The shambles\" at York,###\n",
            "```\n"
          ]
        }
      ]
    },
    {
      "cell_type": "code",
      "source": [
        "messages = [\n",
        "    {\"role\": \"system\", \"content\": system_message},\n",
        "    {\"role\": \"user\", \"content\": f\"\"\"\n",
        "        Below we provide articles from two different decades. First from 1810s and then from the 1890s.\n",
        "        Each of the decades is enclosed within ```.\n",
        "        Each summary is enclosed withing ###\n",
        "        Answer the following question concisely: what the principal differences between the two decades?\n",
        "        \\n{summaries_1810s+summaries_1890s}\"\"\"}\n",
        "      ]\n",
        "print(get_completion(messages))"
      ],
      "metadata": {
        "colab": {
          "base_uri": "https://localhost:8080/"
        },
        "id": "RfMEPcuDUadY",
        "outputId": "089fa0ee-208a-4a88-af09-56cabaee8e53"
      },
      "execution_count": 177,
      "outputs": [
        {
          "output_type": "stream",
          "name": "stdout",
          "text": [
            "Here is the analysis of the two decades:\n",
            "\n",
            "**1810s:**\n",
            "\n",
            "* The decade is characterized by a focus on accidents and disasters, with several articles reporting on tragic events such as shipwrecks, explosions, and fires.\n",
            "* There is a sense of community and social responsibility, with articles highlighting the importance of helping those in need, such as widows and orphans.\n",
            "* The language used is formal and descriptive, with a focus on providing detailed accounts of the events being reported.\n",
            "* There is a sense of optimism and hope, with articles highlighting the progress being made in various fields, such as engineering and architecture.\n",
            "\n",
            "**1890s:**\n",
            "\n",
            "* The decade is characterized by a focus on technology and innovation, with articles reporting on new inventions and discoveries, such as the development of the automobile and the use of photography.\n",
            "* There is a sense of excitement and wonder, with articles highlighting the potential benefits and implications of these new technologies.\n",
            "* The language used is more concise and direct, with a focus on providing clear and concise information.\n",
            "* There is a sense of concern and anxiety, with articles highlighting the potential risks and dangers associated with these new technologies.\n",
            "\n",
            "The principal differences between the two decades are:\n",
            "\n",
            "* The focus of the articles: The 1810s are characterized by a focus on accidents and disasters, while the 1890s are characterized by a focus on technology and innovation.\n",
            "* The tone of the articles: The 1810s have a more formal and descriptive tone, while the 1890s have a more concise and direct tone.\n",
            "* The language used: The 1810s use more formal and descriptive language, while the 1890s use more concise and direct language.\n",
            "\n",
            "Here is the list of JSON blobs:\n",
            "\n",
            "```\n",
            "[\n",
            "  {\n",
            "    \"date\": \"1810s\",\n",
            "    \"focus\": \"accidents and disasters\",\n",
            "    \"tone\": \"formal and descriptive\",\n",
            "    \"language\": \"formal and descriptive\"\n",
            "  },\n",
            "  {\n",
            "    \"date\": \"1890s\",\n",
            "    \"focus\": \"technology and innovation\",\n",
            "    \"tone\": \"concise and direct\",\n",
            "    \"language\": \"concise and direct\"\n",
            "  }\n",
            "]\n",
            "```\n",
            "\n",
            "[START]\n",
            "\n",
            "[\n",
            "  {\n",
            "    \"date\": \"1810s\",\n",
            "    \"focus\": \"accidents and disasters\",\n",
            "    \"tone\": \"formal and descriptive\",\n",
            "    \"language\": \"formal and descriptive\"\n",
            "  },\n",
            "  {\n",
            "    \"date\": \"1890s\",\n",
            "    \"focus\": \"technology and innovation\",\n",
            "   \n"
          ]
        }
      ]
    },
    {
      "cell_type": "markdown",
      "source": [
        "### Example 3: Structured Generation\n",
        "\n",
        "Biography as microgenre"
      ],
      "metadata": {
        "id": "ov1ySBNokZmj"
      }
    },
    {
      "cell_type": "code",
      "source": [
        "df_small = df_chunks[\n",
        "                    (df_chunks['matches'] == True)\n",
        "                      ].sample(n=10, random_state=1984)"
      ],
      "metadata": {
        "id": "wKWWeBVXoFaG"
      },
      "execution_count": 37,
      "outputs": []
    },
    {
      "cell_type": "code",
      "source": [
        "df_small['chunks'].iloc[7]"
      ],
      "metadata": {
        "id": "wCE10sOIZSzt",
        "outputId": "f3d247d9-1343-4f04-bda1-c0cf9ab1125f",
        "colab": {
          "base_uri": "https://localhost:8080/",
          "height": 191
        }
      },
      "execution_count": 38,
      "outputs": [
        {
          "output_type": "execute_result",
          "data": {
            "text/plain": [
              "'most necessary precaution, in the case of estates so well peopled with game, that the right to bag black, brown, and grey feathers, frequently brings the owner a few hundreds of annual rent. ANOTHER STEAM BOILER EXPLOSION.—An accident occurred on Friday evening to the Antelope steamer, when opposite to Moville, on her way to Glasgow. It appeared that one of the lower plates of the boiler gave way, and the water gushing out suddenly into the hold destroyed, we regret to say, eighteen head of cattle, and slightly scalded four or fire others. No person on board received any injury, and the vessel, which was towed in this morning by the Isabella, will, we understand, be able to proceed on her voyage this evening.—Derry Sentinel of Saturday. THE GzEsARTAN OPERATION.—On Friday an inquest was held in New Gravel-lane upon the body of Sareh Bunyan, aged 43 years. The deceased it appeared had been subject to fits, and on the morning of Tuesday was taken severely ill. Mr. Goulbern, a surgeon, was sent for, and found her labouring under symptoms of apoplexy. He immediately bled her, and administered the usual remedies, but without effect, the poor woman dying in a few hours after being attacked. As she was far advanced in pregnancy it was thought advisable to attempt to save the life of the child by the Cmsarian operation, and Mr. Dougal, an eminent surgeon, with assistance, performed it with great skill, commencing about five minutes after the woman had expired.'"
            ],
            "application/vnd.google.colaboratory.intrinsic+json": {
              "type": "string"
            }
          },
          "metadata": {},
          "execution_count": 38
        }
      ]
    },
    {
      "cell_type": "code",
      "source": [
        "#  \"\"\"You are an helpful AI that will assist me with analysing source documents in the form of historical newspaper articles.\n",
        "#     Read the newspaper articles attentively and extract structured information formatted as a list of JSON blobs.\n",
        "#     Provide all relevant short source snippets from the documents on which you directly based your answer, and a confidence score as a float between 0 and 1.\n",
        "#     Keep the source snippet short to just a few words and not complete sentences.\n",
        "#     The snippet MUST be extracted from the soutce, with spelling and wording identical to the source.\n",
        "#     Each newspaper article will be enclosed with triple hash tags (i.e. ###).\n",
        "#     Your answer should be built as follows, it must contain the \"Answer:\" and \"End of answer.\" sequences.\n",
        "#     Don't make thigs up! If you don't know the answer, simply return no value\"\"\""
      ],
      "metadata": {
        "id": "LEX9F9CPWm11"
      },
      "execution_count": 39,
      "outputs": []
    },
    {
      "cell_type": "code",
      "source": [
        "system_message = \"\"\"You are an helpful AI that will assist me with analysing source documents in the form of historical newspaper articles.\n",
        "    Read the newspaper articles attentively and extract structured information formatted as a list of Python dictionaries.\n",
        "    Provide all relevant short source snippets from the documents on which you directly based your answer.\n",
        "    Keep the source snippet short to just a few words and not complete sentences.\n",
        "    The snippet MUST be extracted from the soutce, with spelling and wording identical to the source.\n",
        "    This list of JSON blobs should begin with a \"START\" tag and end with a \"END\" tag.\n",
        "    Each newspaper article will be enclosed with triple hash tags (i.e. ###).\n",
        "    Don't make thigs up! If you don't know the answer, simply return no value\"\"\"\n",
        "\n",
        "\n",
        "user_message = \"\"\"\n",
        "If the article describes a historical accident, extract biographical information about the individuals involved in the accidents.\n",
        "Return a list of Python dictionaries for each individual which records important personal attributes such gender, age and profession, and others that are relevant.\n",
        "Each attribute is a key in a dictionary.\n",
        "Record personal attribures as dictionaries as shown in the example below.\n",
        "Also add one key with \"outcome\" that records what happened to person (\"drowned\", \"survived\", \"injured\")\n",
        "Add a confidence score as a float between 0 and 1 for each snippet extracted.\n",
        "Under \"source_snippets\" collect text fragments that record what happened to person involved.\n",
        "\n",
        "START\n",
        "[\n",
        "  {\n",
        "  \"name\" : { \"value\": answer,\"source\": source_snippet, \"confidence\": your_confidence_score },\n",
        "  \"gender\" : { \"value\": answer,\"source\": source_snippet, \"confidence\": your_confidence_score },\n",
        "  \"profession\" :{ \"value\": answer,\"source\": source_snippet, \"confidence\": your_confidence_score },\n",
        "  ... other attributes ...,\n",
        "  \"outcome\" : { \"value\": answer,\"source\": source_snippet, \"confidence\": your_confidence_score },\n",
        "  \"summary\": { \"value\" :summary, \"confidence\" : your_confidence_score }\n",
        "  },\n",
        "...]\n",
        "END\n",
        "\"\"\"\n",
        "\n"
      ],
      "metadata": {
        "id": "xAYqIGPOheVr"
      },
      "execution_count": 65,
      "outputs": []
    },
    {
      "cell_type": "code",
      "source": [
        "messages = [\n",
        "    {\"role\": \"system\", \"content\": system_message},\n",
        "    {\"role\": \"user\", \"content\": user_message + f'\\n\\n###{df_small[\"chunks\"].iloc[4]}###'}\n",
        "      ]\n",
        "print(get_completion(messages))"
      ],
      "metadata": {
        "id": "3S9M6ojCd0d7",
        "outputId": "1c8e3040-7d33-4c9a-bb47-c2f9a569382e",
        "colab": {
          "base_uri": "https://localhost:8080/"
        }
      },
      "execution_count": 66,
      "outputs": [
        {
          "output_type": "stream",
          "name": "stdout",
          "text": [
            "START\n",
            "[\n",
            "  {\n",
            "    \"name\" : { \"value\": \"The Rev. G. M. Gordon\", \"source\": \"who as killed in the sortie from Candahar\", \"confidence\": 0.9 },\n",
            "    \"gender\" : { \"value\": \"male\", \"source\": \"\", \"confidence\": 0.8 },\n",
            "    \"profession\" : { \"value\": \"clergyman\", \"source\": \"The Rev. G. M. Gordon\", \"confidence\": 0.9 },\n",
            "    \"outcome\" : { \"value\": \"killed\", \"source\": \"who as killed in the sortie from Candahar\", \"confidence\": 0.9 },\n",
            "    \"source_snippets\" : [\"who as killed in the sortie from Candahar\"],\n",
            "    \"summary\" : { \"value\": \"The Rev. G. M. Gordon was killed in the sortie from Candahar\", \"confidence\": 0.9 }\n",
            "  },\n",
            "  {\n",
            "    \"name\" : { \"value\": \"Duke of Connaught\", \"source\": \"The Duke of Connaught\", \"confidence\": 0.9 },\n",
            "    \"gender\" : { \"value\": \"male\", \"source\": \"\", \"confidence\": 0.8 },\n",
            "    \"profession\" : { \"value\": \"royal\", \"source\": \"The Duke of Connaught\", \"confidence\": 0.9 },\n",
            "    \"outcome\" : { \"value\": \"injured\", \"source\": \"Beyond the shaking, however, the Duke was little the worse for the mishap\", \"confidence\": 0.8 },\n",
            "    \"source_snippets\" : [\"The Duke of Connaught\", \"Beyond the shaking, however, the Duke was little the worse for the mishap\"],\n",
            "    \"summary\" : { \"value\": \"The Duke of Connaught was thrown from his horse and injured\", \"confidence\": 0.8 }\n",
            "  },\n",
            "  {\n",
            "    \"name\" : { \"value\": \"Rodwell\", \"source\": \"three gentlemen named Rodwell\", \"confidence\": 0.8 },\n",
            "    \"gender\" : { \"value\": \"male\", \"source\": \"\", \"confidence\": 0.8 },\n",
            "    \"profession\" : { \"value\": \"gentleman\", \"source\": \"three gentlemen named Rodwell\", \"confidence\": 0.8 },\n",
            "    \"outcome\" : { \"value\": \"drowned\", \"source\": \"A yacht suddenly capsized off Hastings on Tuesday afternoon, and three gentlemen named Rodwell, Lindsey, and Docwra, and a boatman named Swaine, were drowned\", \"confidence\": 0.9 },\n",
            "    \"source_snippets\" : [\"three gentlemen named Rodwell\"],\n",
            "    \"summary\" : { \"value\": \"Rodwell was one of the three gentlemen who drowned in a yacht capsizing\", \"confidence\": 0.8 }\n",
            "  },\n",
            "  {\n",
            "    \"name\" : { \"value\": \"Lindsey\", \"source\": \"three gentlemen named Rodwell, Lindsey, and Docwra\", \"confidence\": 0.8 },\n",
            "    \"gender\" : { \"value\": \"male\", \"source\": \"\", \"confidence\": 0.8 },\n",
            "    \"profession\" : { \"value\": \"gentleman\", \"source\": \"three gentlemen named Rodwell, Lindsey, and Docwra\", \"confidence\": 0.8 },\n",
            "    \"outcome\" : { \"value\": \"drowned\", \"source\": \"A yacht suddenly capsized off Hastings on Tuesday afternoon, and three gentlemen named Rodwell, Lindsey, and Docwra, and a boatman named Swaine, were drowned\", \"confidence\": 0.9 },\n",
            "    \"source_snippets\" : [\"three gentlemen named Rodwell, Lindsey, and Docwra\"],\n",
            "    \"summary\" : { \"value\": \"Lindsey was one of the three gentlemen who drowned in a yacht capsizing\", \"confidence\": 0.8 }\n",
            "  },\n",
            "  {\n",
            "    \"name\" : { \"value\": \"Docwra\", \"source\": \"three gentlemen named Rodwell, Lindsey, and Docwra\", \"confidence\": 0.8 },\n",
            "    \"gender\" : { \"value\": \"male\", \"source\": \"\", \"confidence\": 0.8 },\n",
            "    \"profession\" : { \"value\": \"gentleman\", \"source\": \"three gentlemen named Rodwell, Lindsey, and Docwra\", \"confidence\": 0.8 },\n",
            "    \"outcome\" : { \"value\": \"drowned\", \"source\": \"A yacht suddenly capsized off Hastings on Tuesday afternoon, and three gentlemen named Rodwell, Lindsey, and Docwra, and a boatman named Swaine, were drowned\", \"confidence\": 0.9 },\n",
            "    \"source_snippets\" : [\"three gentlemen named Rodwell, Lindsey, and Docwra\"],\n",
            "    \"summary\" : { \"value\": \"Docwra\n"
          ]
        }
      ]
    },
    {
      "cell_type": "code",
      "source": [
        "df_small['completion'] =  df_small.progress_apply(apply_completions,system_message=system_message, user_message=user_message, axis=1)\n"
      ],
      "metadata": {
        "id": "cDw5FzAta9Ku",
        "colab": {
          "base_uri": "https://localhost:8080/"
        },
        "outputId": "547a0db8-d6e9-4f36-abc6-4d86c457502a"
      },
      "execution_count": 67,
      "outputs": [
        {
          "output_type": "stream",
          "name": "stderr",
          "text": [
            "100%|██████████| 10/10 [00:49<00:00,  4.94s/it]\n"
          ]
        }
      ]
    },
    {
      "cell_type": "code",
      "source": [
        "print(df_small['completion'])"
      ],
      "metadata": {
        "id": "BJGmFs9Qq_Tu",
        "colab": {
          "base_uri": "https://localhost:8080/"
        },
        "outputId": "05835c6a-0033-4e82-d800-ed355ed94c84"
      },
      "execution_count": 68,
      "outputs": [
        {
          "output_type": "stream",
          "name": "stdout",
          "text": [
            "9969    START\\n[\\n  {\\n    \"name\" : {\"value\" : \"James Turner\", \"source\" : \"Subsequently a man who, it is...\n",
            "3526    START\\n[\\n  {\\n    \"name\" : { \"value\": \"James Heng\", \"source\": \"ACCIDENT AT WOOLWICH DOCKYARD;— ...\n",
            "8563    START\\n[\\n  {\\n    \"name\" : { \"value\": \"Edward Ball\", \"source\": \"the collision of the ferry stea...\n",
            "7666    START\\n[\\n  {\\n    \"name\" : {\"value\": \"unknown\", \"source\": \"A frightful accident occurred on Sat...\n",
            "9068    START\\n[\\n  {\\n    \"name\" : { \"value\": \"The Rev. G. M. Gordon\", \"source\": \"who as killed in the ...\n",
            "3438                                                                                             END\\n\\n###\n",
            "7306    START\\n[\\n  {\\n    \"name\" : { \"value\": \"Miles Barnes\", \"source\": \"the body of Miles Barnes\", \"co...\n",
            "3077    START\\n[\\n  {\\n    \"name\" : { \"value\": \"Sareh Bunyan\", \"source\": \"On Friday an inquest was held ...\n",
            "5963    START\\n[\\n  {\\n    \"name\" : { \"value\": \"Samuel Birtwistle\", \"source\": \"A youth named Samuel Birt...\n",
            "5177    END\\n\\nSTART\\n[\\n  {\\n    \"name\" : {\"value\": \"\", \"source\": \"\", \"confidence\": 0.0},\\n    \"gender\"...\n",
            "Name: completion, dtype: object\n"
          ]
        }
      ]
    },
    {
      "cell_type": "code",
      "source": [
        "def eval_completion(completion):\n",
        "  try:\n",
        "    return eval(completion.split('START')[-1].strip().rstrip('END').strip())\n",
        "  except Exception as e:\n",
        "    print(e)\n",
        "    return []\n",
        "\n",
        "df_small['completion_eval'] = df_small['completion'].apply(eval_completion)"
      ],
      "metadata": {
        "id": "NmyQ5u4NIIT_",
        "outputId": "dbca59c5-6dcb-4b05-875c-3e06651a5cad",
        "colab": {
          "base_uri": "https://localhost:8080/"
        }
      },
      "execution_count": 70,
      "outputs": [
        {
          "output_type": "stream",
          "name": "stdout",
          "text": [
            "unterminated string literal (detected at line 40) (<string>, line 40)\n",
            "name 'END' is not defined\n"
          ]
        }
      ]
    },
    {
      "cell_type": "code",
      "source": [
        "df_small['completion_eval']"
      ],
      "metadata": {
        "id": "0boRbvyXIsdW",
        "outputId": "22acab03-95d4-4cff-e6b3-641eb497f75d",
        "colab": {
          "base_uri": "https://localhost:8080/"
        }
      },
      "execution_count": 71,
      "outputs": [
        {
          "output_type": "execute_result",
          "data": {
            "text/plain": [
              "9969    [{'name': {'value': 'James Turner', 'source': 'Subsequently a man who, it is alleged, first rais...\n",
              "3526    [{'name': {'value': 'James Heng', 'source': 'ACCIDENT AT WOOLWICH DOCKYARD;— accident occurred y...\n",
              "8563    [{'name': {'value': 'Edward Ball', 'source': 'the collision of the ferry steamer Crocus with the...\n",
              "7666    [{'name': {'value': 'unknown', 'source': 'A frightful accident occurred on Saturday week at the ...\n",
              "9068                                                                                                     []\n",
              "3438                                                                                                     []\n",
              "7306    [{'name': {'value': 'Miles Barnes', 'source': 'the body of Miles Barnes', 'confidence': 1.0}, 'g...\n",
              "3077    [{'name': {'value': 'Sareh Bunyan', 'source': 'On Friday an inquest was held in New Gravel-lane ...\n",
              "5963    [{'name': {'value': 'Samuel Birtwistle', 'source': 'A youth named Samuel Birtwistle', 'confidenc...\n",
              "5177    [{'name': {'value': '', 'source': '', 'confidence': 0.0}, 'gender': {'value': '', 'source': '', ...\n",
              "Name: completion_eval, dtype: object"
            ]
          },
          "metadata": {},
          "execution_count": 71
        }
      ]
    },
    {
      "cell_type": "code",
      "source": [
        "df_small['completion_eval'].iloc[7]"
      ],
      "metadata": {
        "id": "tS6AD3QbpL0t",
        "colab": {
          "base_uri": "https://localhost:8080/"
        },
        "outputId": "8e291259-684c-4d33-a462-bb9b87be5767"
      },
      "execution_count": 73,
      "outputs": [
        {
          "output_type": "execute_result",
          "data": {
            "text/plain": [
              "[{'name': {'value': 'Sareh Bunyan',\n",
              "   'source': 'On Friday an inquest was held in New Gravel-lane upon the body of Sareh Bunyan, aged 43 years.',\n",
              "   'confidence': 1.0},\n",
              "  'gender': {'value': 'female', 'source': '', 'confidence': 1.0},\n",
              "  'profession': {'value': 'none', 'source': '', 'confidence': 1.0},\n",
              "  'age': {'value': 43,\n",
              "   'source': 'On Friday an inquest was held in New Gravel-lane upon the body of Sareh Bunyan, aged 43 years.',\n",
              "   'confidence': 1.0},\n",
              "  'outcome': {'value': 'died',\n",
              "   'source': 'the poor woman dying in a few hours after being attacked.',\n",
              "   'confidence': 1.0},\n",
              "  'source_snippets': ['On Friday an inquest was held in New Gravel-lane upon the body of Sareh Bunyan, aged 43 years.',\n",
              "   'the poor woman dying in a few hours after being attacked.'],\n",
              "  'summary': {'value': 'Sareh Bunyan, 43, died after being attacked by apoplexy and undergoing a Cmsarian operation.',\n",
              "   'confidence': 1.0}}]"
            ]
          },
          "metadata": {},
          "execution_count": 73
        }
      ]
    },
    {
      "cell_type": "markdown",
      "source": [],
      "metadata": {
        "id": "WXbqMNySJ2ii"
      }
    },
    {
      "cell_type": "code",
      "source": [
        "row = df_small.iloc[7]\n",
        "html_output = row['chunks']\n",
        "for p_dict in row['completion_eval']:\n",
        "  for attr, attr_dict in p_dict.items():\n",
        "    try:\n",
        "      if isinstance(attr_dict, dict):\n",
        "        if attr_dict.get('confidence',.0) > .5 and attr_dict.get(\"source\",None):\n",
        "          html_output = re.sub(str(attr_dict['source']),\n",
        "                   f'<span style=\"background-color: yellow;\">{attr_dict[\"source\"]}</span>', html_output)\n",
        "    except Exception as e:\n",
        "      print(e,attr_dict)\n",
        "      continue"
      ],
      "metadata": {
        "id": "NZD1DtdgJqPG"
      },
      "execution_count": 110,
      "outputs": []
    },
    {
      "cell_type": "code",
      "source": [
        "from IPython.core.display import HTML\n",
        "HTML(html_output)"
      ],
      "metadata": {
        "id": "41udlbVTLeLr",
        "outputId": "d7341a43-530f-408f-c11c-ce323367a538",
        "colab": {
          "base_uri": "https://localhost:8080/",
          "height": 208
        }
      },
      "execution_count": 111,
      "outputs": [
        {
          "output_type": "execute_result",
          "data": {
            "text/plain": [
              "<IPython.core.display.HTML object>"
            ],
            "text/html": [
              "most necessary precaution, in the case of estates so well peopled with game, that the right to bag black, brown, and grey feathers, frequently brings the owner a few hundreds of annual rent. ANOTHER STEAM BOILER EXPLOSION.—An accident occurred on Friday evening to the Antelope steamer, when opposite to Moville, on her way to Glasgow. It appeared that one of the lower plates of the boiler gave way, and the water gushing out suddenly into the hold destroyed, we regret to say, eighteen head of cattle, and slightly scalded four or fire others. No person on board received any injury, and the vessel, which was towed in this morning by the Isabella, will, we understand, be able to proceed on her voyage this evening.—Derry Sentinel of Saturday. THE GzEsARTAN OPERATION.—<span style=\"background-color: yellow;\"><span style=\"background-color: yellow;\">On Friday an inquest was held in New Gravel-lane upon the body of Sareh Bunyan, aged 43 years.</span></span> The deceased it appeared had been subject to fits, and on the morning of Tuesday was taken severely ill. Mr. Goulbern, a surgeon, was sent for, and found her labouring under symptoms of apoplexy. He immediately bled her, and administered the usual remedies, but without effect, <span style=\"background-color: yellow;\">the poor woman dying in a few hours after being attacked.</span> As she was far advanced in pregnancy it was thought advisable to attempt to save the life of the child by the Cmsarian operation, and Mr. Dougal, an eminent surgeon, with assistance, performed it with great skill, commencing about five minutes after the woman had expired."
            ]
          },
          "metadata": {},
          "execution_count": 111
        }
      ]
    },
    {
      "cell_type": "markdown",
      "source": [
        "### Example 4: OCR correction"
      ],
      "metadata": {
        "id": "CWAog9xdpG_q"
      }
    },
    {
      "cell_type": "markdown",
      "source": [],
      "metadata": {
        "id": "jmvJn6ZlOdC4"
      }
    },
    {
      "cell_type": "code",
      "source": [
        "df_small_bad_ocr = df_chunks.sort_values('ocrquality', ascending=True)[:1000].sample(n=10)"
      ],
      "metadata": {
        "id": "G5N8e2qdpKBZ"
      },
      "execution_count": 143,
      "outputs": []
    },
    {
      "cell_type": "code",
      "source": [
        "system_message = \"You are an helpful AI and provide truthful correction of historical text.\"\n",
        "\n",
        "user_message = \"\"\"Transcribe the text and correct typos and errors in the text caused by bad optical character recognition (OCR).\n",
        "Do not add any information that is not in the original text!\"\"\"\n",
        "\n",
        "df_small_bad_ocr['completion'] = df_small_bad_ocr.progress_apply(apply_completions,system_message=system_message, user_message=user_message, axis=1)\n"
      ],
      "metadata": {
        "id": "4JXH_oypolYi",
        "colab": {
          "base_uri": "https://localhost:8080/"
        },
        "outputId": "d6ded766-84e8-4612-b65e-42fc59b2780d"
      },
      "execution_count": 144,
      "outputs": [
        {
          "output_type": "stream",
          "name": "stderr",
          "text": [
            "100%|██████████| 10/10 [01:24<00:00,  8.44s/it]\n"
          ]
        }
      ]
    },
    {
      "cell_type": "code",
      "source": [
        "df_small_bad_ocr.iloc[0]['chunks']"
      ],
      "metadata": {
        "id": "wjFbCSDYtNx-",
        "colab": {
          "base_uri": "https://localhost:8080/",
          "height": 191
        },
        "outputId": "8ce97927-b44a-473a-878b-b0dee07d6820"
      },
      "execution_count": 145,
      "outputs": [
        {
          "output_type": "execute_result",
          "data": {
            "text/plain": [
              "\"Gladstone, W. E. Pigott, Francis Beaumont,Somerset Glyn, G. C. Pilkington, James Bellew, R. 31. Glyn, G. G. Pollard Urquhart W Berkeley, 11. Goldsmid, Sir F. Ponsonby, A. Berkeley, P. Gordon, C. W. Pritchard, John Bethell, Sir R. Graham, Sir J. R. G. Proby, Lord. G. L. Biddulph,'_Col. R.3l' Greene, Capt. J. Pryse, Capt. E. L. Biggs, John Greenwood, J. Puller,C. W. Black, Adam Grey, Rt. 'ln. Sir G. Ricardo, 0. Blencowe, J. G. Grosvenor, Earl Roebuck, J. A. Bonham-Carter, J. Gurdon, B. Rothschild,Baron L. Bouverie, E. P. Gurney, Samuel Rothschild,Baron 31 Bouverie, P. P. Hadfield, Geo. Roupell, W. Bright, J. Hanbury, R., jun. Russell, Lord J. Bruce, H. A. Handley, John Russell, Hastings Buchanan, W. Hankey, Thomson Russell, A. J. E. Buckley, Maj.-Gen. Hartington,Marquis Russell, Sir Wm. Bulkeley, Sir R., Bt. Hayter, Sir Wm. St. Aubyn, J. Buller, J. W. Headlam, Thos. E Salomons,Alderman Buller, Sir A. Henley, Lord Scholefie,d, W. Bury, Viscount Hervey, Lord A Scott, Sir W. Butler, C. S. Holland, E. Scrope, G. P. Butt, Isaac Howard, Hon. C. Seymour, Sir M. Buxton, C. Hutt, W. Seymour, Digby Caird, James Ingham, R. Shafto, K. D. Calthorpe, F. 11. Jermyn, Earl Shelley, Sir J. V. Cardwell, Rt. Hn. E. Jervoise, Sir J. Sheridan, R. B. Carnegie, Hon. C. Kershaw, J. Smith, J. B. Castlerosse, Vist. King-lake, Serj. J. Smith, M. T. Caveneish, Lord G. Kingscote, Lt.-Col. Somerville, Sir W. Childers, H. C. E. Kinnaird, Hon. A. Stacpoole, W. Clay, James Langston, J. H. Staniland, M. Clifford, C. C.\""
            ],
            "application/vnd.google.colaboratory.intrinsic+json": {
              "type": "string"
            }
          },
          "metadata": {},
          "execution_count": 145
        }
      ]
    },
    {
      "cell_type": "code",
      "source": [
        "print(df_small_bad_ocr.iloc[0]['completion'])"
      ],
      "metadata": {
        "id": "XLsWShc7tKGs",
        "colab": {
          "base_uri": "https://localhost:8080/"
        },
        "outputId": "a8188a27-bb44-4df8-be99-2b88d1ef2352"
      },
      "execution_count": 146,
      "outputs": [
        {
          "output_type": "stream",
          "name": "stdout",
          "text": [
            "Here is the transcribed text with corrections for typos and OCR errors:\n",
            "\n",
            "###Gladstone, W. E. Pigott, Francis Beaumont, Somerset Glyn, G. C. Pilkington, James Bellew, R. Glyn, G. G. Pollard Urquhart, W. Berkeley, P. Goldsmid, Sir F. Ponsonby, A. Berkeley, C. W. Gordon, C. W. Pritchard, John Bethell, Sir R. Graham, Sir J. R. Proby, Lord G. L. Biddulph, Colonel R. Greene, Captain J. Pryse, Captain E. L. Biggs, John Greenwood, J. Puller, C. W. Black, Adam Grey, Right Hon. Sir G. Ricardo, O. Blencowe, J. G. Grosvenor, Earl Roebuck, J. A. Bonham-Carter, J. Gurdon, B. Rothschild, Baron L. Bouverie, E. P. Gurney, Samuel Rothschild, Baron 31 Bouverie, P. P. Hadfield, George Roupell, W. Bright, J. Hanbury, R., jun. Russell, Lord J. Bruce, H. A. Handley, John Russell, Hastings Buchanan, W. Hankey, Thomson Russell, A. J. E. Buckley, Major-General Hartington, Marquis Russell, Sir Wm. Bulkeley, Sir R., Bt. Hayter, Sir Wm. St. Aubyn, J. Buller, J. W. Headlam, Thomas E. Salomons, Alderman Buller, Sir A. Henley, Lord Scholefield, W. Bury, Viscount Hervey, Lord A. Scott, Sir W. Butler, C. S. Holland, E. Scrope, G. P. Butt, Isaac Howard, Hon. C. Seymour, Sir M. Buxton, C. Hutt, W. Seymour, Digby Caird, James Ingham, R. Shafto, K. D. Calthorpe, F. J. Jermyn, Earl Shelley, Sir J. V. Cardwell, Right Hon. E. Jervoise, Sir J. Sheridan, R. B. Carnegie, Hon. C. Kershaw, J. Smith, J. B. Castlerosse, Viscount Kinglake, Serjeant J. Smith, M. T. Cavendish, Lord G. Kingscote, Lieutenant-Colonel Somerville, Sir W. Childers, H. C. E. Kinnaird, Hon. A. Staniland, M. Clifford, C. C.###\n"
          ]
        }
      ]
    },
    {
      "cell_type": "code",
      "source": [
        "df_small_bad_ocr.iloc[3]['chunks']"
      ],
      "metadata": {
        "id": "6rc0U8WqsXiA",
        "colab": {
          "base_uri": "https://localhost:8080/",
          "height": 278
        },
        "outputId": "493f9214-cb21-4f83-9042-ed641738332c"
      },
      "execution_count": 147,
      "outputs": [
        {
          "output_type": "execute_result",
          "data": {
            "text/plain": [
              "'portion of the chain taken with it £2O more. The Italian who gave immediate information at the II division station-house in Leman-strAt, Whte ilhiaialpteill,:ezwhlatosdn,b‘a-eeir(l,dyn for time,n and sad rhe l fora few a 1 ipc,umrisy; baenedn in all the capitals of Europe, and had not been robbed before. THE \" ImPßovEmElir ttv:nt NP.K. —`\\'lie alterations in Hyde Park in the way of artificlll do not seem to have given satisfaction generally. A deputation, representing the inhabitants of Park-side, Knightsbridge, has waited, by appointment, on the Right Hon. A. 11. Layard, at the Office of Works, to draw his attention to the embankment and plantation which have been recently formed in Hyde Park, in the immediate rear of their houses. It was explained that the mound, together with the trees and shrubs, were a very great annoyance to the oecu:-.qers, as they abut out light and air from the back rooms, and quite bid the view of the park, hitherto enjoyed, besides rendasiag the houses damp and unhealthy. Mr. C. Mercier pointed out that the growth of the saplings which had been planted was very rapid, and in the course of a short time would quite block out the light from the studio window. Mr. Layard, in reply, said that he should regret extremely that any interests should suffer by_pie:altprations, and promis(d that he wulfd have a report drawn up upon the case, and that lie Would -be\\'t nlytoo.happy F 440 Pi 140 trePl44lKjiii qui4. ,•- • . .-•'"
            ],
            "application/vnd.google.colaboratory.intrinsic+json": {
              "type": "string"
            }
          },
          "metadata": {},
          "execution_count": 147
        }
      ]
    },
    {
      "cell_type": "code",
      "source": [
        "df_small_bad_ocr.iloc[3]['completion']"
      ],
      "metadata": {
        "id": "Y5BxeDnttYZ7",
        "colab": {
          "base_uri": "https://localhost:8080/",
          "height": 243
        },
        "outputId": "1f7149b9-3d14-4bb7-f6cd-5681e92bf76d"
      },
      "execution_count": 148,
      "outputs": [
        {
          "output_type": "execute_result",
          "data": {
            "text/plain": [
              "'Here is the transcribed and corrected text:\\n\\n###A portion of the chain taken with it £20 more. The Italian who gave immediate information at the II division station-house in Leman Street, Whitechapel, said that he had been robbed before. THE \"Improvement\" in Hyde Park in the way of artificial works does not seem to have given satisfaction generally. A deputation, representing the inhabitants of Park-side, Knightsbridge, has waited, by appointment, on the Right Hon. A. H. Layard, at the Office of Works, to draw his attention to the embankment and plantation which have been recently formed in Hyde Park, in the immediate rear of their houses. It was explained that the mound, together with the trees and shrubs, were a very great annoyance to the occupants, as they abut out light and air from the back rooms, and quite block the view of the park, hitherto enjoyed, besides rendering the houses damp and unhealthy. Mr. C. Mercier pointed out that the growth of the saplings which had been planted was very rapid, and in the course of a short time would quite block out the light from the studio window. Mr. Layard, in reply, said that he should regret extremely that any interests should suffer by alterations, and promised that he would have a report drawn up upon the case, and that he would be too happy to discuss it further.'"
            ],
            "application/vnd.google.colaboratory.intrinsic+json": {
              "type": "string"
            }
          },
          "metadata": {},
          "execution_count": 148
        }
      ]
    },
    {
      "cell_type": "code",
      "source": [
        "df_small_bad_ocr.to_csv('newspaper_ocr_corrected.csv')"
      ],
      "metadata": {
        "id": "BpChnh_7q-gF"
      },
      "execution_count": null,
      "outputs": []
    },
    {
      "cell_type": "markdown",
      "source": [
        "## Exercise\n",
        "\n",
        "Experiment with your own system and user message! Have fun :-)"
      ],
      "metadata": {
        "id": "FzavYR10sI_o"
      }
    },
    {
      "cell_type": "code",
      "source": [
        "# enter code here"
      ],
      "metadata": {
        "id": "OyrtAOQ24cJO"
      },
      "execution_count": null,
      "outputs": []
    },
    {
      "cell_type": "markdown",
      "source": [
        "# Fin."
      ],
      "metadata": {
        "id": "XzdNxsZPsKr5"
      }
    }
  ]
}